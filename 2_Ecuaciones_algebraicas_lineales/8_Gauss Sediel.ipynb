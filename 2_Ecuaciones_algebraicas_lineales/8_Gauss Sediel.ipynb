{
 "cells": [
  {
   "cell_type": "markdown",
   "id": "b12f9e16-fd26-4b48-9ea1-da4c3e9a53a6",
   "metadata": {},
   "source": [
    "# Método de Gauss-Sediel\n",
    "El **método de Gauss-Seidel** es un método iterativo utilizado para resolver sistemas de ecuaciones lineales. Es una mejora del método de Jacobi, ya que utiliza los valores más actualizados de las incógnitas a medida que se van calculando en la misma iteración, lo que generalmente acelera la convergencia.\n",
    " \n",
    "Una condición suficiente (pero no necesaria) para garantizar la convergencia es que la matriz de coeficientes `A` sea **estrictamente diagonalmente dominante**.\n",
    " \n",
    "### Relajación\n",
    "El método se puede modificar con un **factor de relajación** $\\lambda$ para acelerar la convergencia. Esta técnica se conoce como **sobrerrelajación sucesiva (SOR)**.\n",
    "- Si $\\lambda = 1$, es el método de Gauss-Seidel estándar.\n",
    "- Si $0 < \\lambda < 1$, se habla de subrrelajación.\n",
    "- Si $\\lambda > 1$, se habla de sobrerrelajación (el caso más común para acelerar).\n",
    "\n",
    "## Ejemplo 1: Sistema 3x3\n",
    "**Problema:**\n",
    "\n",
    "Resolver el siguiente sistema de ecuaciones usando el método de Gauss-Seidel con una tolerancia del 0.1%:\n",
    "\n",
    "\n",
    "\\begin{align*}\n",
    "3x_1 - 0.1x_2 - 0.2x_3 &= 7.85 \\\\\n",
    "0.1x_1 + 7x_2 - 0.3x_3 &= -19.3 \\\\\n",
    "0.3x_1 - 0.2x_2 + 10x_3 &= 71.4\n",
    "\\end{align*}\n"
   ]
  },
  {
   "cell_type": "code",
   "execution_count": 1,
   "id": "e46c454b-15fd-4262-9c08-7dc0fec4f1a9",
   "metadata": {},
   "outputs": [],
   "source": [
    "from mnspy import GaussSediel, mostrar_matrix\n",
    "import numpy as np"
   ]
  },
  {
   "cell_type": "code",
   "execution_count": 2,
   "id": "08c652e1-b59c-4e78-8d97-5e53edad2ccf",
   "metadata": {},
   "outputs": [
    {
     "name": "stdout",
     "output_type": "stream",
     "text": [
      "Matriz A:\n"
     ]
    },
    {
     "data": {
      "text/latex": [
       "$\\displaystyle \\left[\\begin{array}{ccc}3.0&-0.1&-0.2\\\\0.1&7.0&-0.3\\\\0.3&-0.2&10.0\\end{array}\\right]$"
      ],
      "text/plain": [
       "<IPython.core.display.Math object>"
      ]
     },
     "metadata": {},
     "output_type": "display_data"
    }
   ],
   "source": [
    "# Definimos la matriz de coeficientes A.\n",
    "A = np.array([[3, -0.1, -0.2],[0.1, 7, -0.3],[0.3, -0.2, 10]])\n",
    "print(\"Matriz A:\")\n",
    "mostrar_matrix(A)"
   ]
  },
  {
   "cell_type": "code",
   "execution_count": 3,
   "id": "4420ee97-73f5-476b-90ce-fcc3d8917a49",
   "metadata": {},
   "outputs": [
    {
     "name": "stdout",
     "output_type": "stream",
     "text": [
      "Vector b:\n"
     ]
    },
    {
     "data": {
      "text/latex": [
       "$\\displaystyle \\left[\\begin{array}{c}7.85\\\\-19.3\\\\71.4\\end{array}\\right]$"
      ],
      "text/plain": [
       "<IPython.core.display.Math object>"
      ]
     },
     "metadata": {},
     "output_type": "display_data"
    }
   ],
   "source": [
    "# Definimos el vector de términos independientes b.\n",
    "b = np.array([[7.85], [-19.3], [71.4]])\n",
    "print(\"Vector b:\")\n",
    "mostrar_matrix(b)"
   ]
  },
  {
   "cell_type": "code",
   "execution_count": 4,
   "id": "8602deed-0c54-4293-b85a-e41f24cb2799",
   "metadata": {},
   "outputs": [],
   "source": [
    "# Creamos una instancia de la clase `GaussSediel` con la matriz, el vector y la tolerancia.\n",
    "gs = GaussSediel(A,b,tol_porc=0.1)"
   ]
  },
  {
   "cell_type": "code",
   "execution_count": 5,
   "id": "0ef38881-5b2f-4418-8663-7deca30c6d59",
   "metadata": {},
   "outputs": [
    {
     "name": "stdout",
     "output_type": "stream",
     "text": [
      "Tabla de iteraciones:\n"
     ]
    },
    {
     "data": {
      "text/html": [
       "<table>\n",
       "<thead>\n",
       "<tr><th style=\"text-align: center;\"> Iteración </th><th style=\"text-align: right;\">  $x_{0}$</th><th style=\"text-align: right;\">  $x_{1}$</th><th style=\"text-align: right;\">  $x_{2}$</th><th style=\"text-align: right;\">  $\\varepsilon_{a}[\\%]$</th></tr>\n",
       "</thead>\n",
       "<tbody>\n",
       "<tr><td style=\"text-align: center;\">     1     </td><td style=\"text-align: right;\">  2.61667</td><td style=\"text-align: right;\"> -2.79452</td><td style=\"text-align: right;\">  7.00561</td><td style=\"text-align: right;\">           100         </td></tr>\n",
       "<tr><td style=\"text-align: center;\">     2     </td><td style=\"text-align: right;\">  2.99056</td><td style=\"text-align: right;\"> -2.49962</td><td style=\"text-align: right;\">  7.00029</td><td style=\"text-align: right;\">            12.5023    </td></tr>\n",
       "<tr><td style=\"text-align: center;\">     3     </td><td style=\"text-align: right;\">  3.00003</td><td style=\"text-align: right;\"> -2.49999</td><td style=\"text-align: right;\">  7      </td><td style=\"text-align: right;\">             0.315843  </td></tr>\n",
       "<tr><td style=\"text-align: center;\">     4     </td><td style=\"text-align: right;\">  3      </td><td style=\"text-align: right;\"> -2.5    </td><td style=\"text-align: right;\">  7      </td><td style=\"text-align: right;\">             0.00105151</td></tr>\n",
       "</tbody>\n",
       "</table>"
      ],
      "text/plain": [
       "'<table>\\n<thead>\\n<tr><th style=\"text-align: center;\"> Iteración </th><th style=\"text-align: right;\">  $x_{0}$</th><th style=\"text-align: right;\">  $x_{1}$</th><th style=\"text-align: right;\">  $x_{2}$</th><th style=\"text-align: right;\">  $\\\\varepsilon_{a}[\\\\%]$</th></tr>\\n</thead>\\n<tbody>\\n<tr><td style=\"text-align: center;\">     1     </td><td style=\"text-align: right;\">  2.61667</td><td style=\"text-align: right;\"> -2.79452</td><td style=\"text-align: right;\">  7.00561</td><td style=\"text-align: right;\">           100         </td></tr>\\n<tr><td style=\"text-align: center;\">     2     </td><td style=\"text-align: right;\">  2.99056</td><td style=\"text-align: right;\"> -2.49962</td><td style=\"text-align: right;\">  7.00029</td><td style=\"text-align: right;\">            12.5023    </td></tr>\\n<tr><td style=\"text-align: center;\">     3     </td><td style=\"text-align: right;\">  3.00003</td><td style=\"text-align: right;\"> -2.49999</td><td style=\"text-align: right;\">  7      </td><td style=\"text-align: right;\">             0.315843  </td></tr>\\n<tr><td style=\"text-align: center;\">     4     </td><td style=\"text-align: right;\">  3      </td><td style=\"text-align: right;\"> -2.5    </td><td style=\"text-align: right;\">  7      </td><td style=\"text-align: right;\">             0.00105151</td></tr>\\n</tbody>\\n</table>'"
      ]
     },
     "execution_count": 5,
     "metadata": {},
     "output_type": "execute_result"
    }
   ],
   "source": [
    "# Generamos la tabla de iteraciones para observar la convergencia.\n",
    "print(\"Tabla de iteraciones:\")\n",
    "gs.generar_tabla()"
   ]
  },
  {
   "cell_type": "code",
   "execution_count": 6,
   "id": "469cf83c-2168-404f-ad9d-a661cc27bb69",
   "metadata": {},
   "outputs": [
    {
     "data": {
      "text/html": [
       "<table>\n",
       "<thead>\n",
       "<tr><th>       </th><th style=\"text-align: right;\">  Solución</th></tr>\n",
       "</thead>\n",
       "<tbody>\n",
       "<tr><td>$x_{0}$</td><td style=\"text-align: right;\">       3  </td></tr>\n",
       "<tr><td>$x_{1}$</td><td style=\"text-align: right;\">      -2.5</td></tr>\n",
       "<tr><td>$x_{2}$</td><td style=\"text-align: right;\">       7  </td></tr>\n",
       "</tbody>\n",
       "</table>"
      ],
      "text/plain": [
       "'<table>\\n<thead>\\n<tr><th>       </th><th style=\"text-align: right;\">  Solución</th></tr>\\n</thead>\\n<tbody>\\n<tr><td>$x_{0}$</td><td style=\"text-align: right;\">       3  </td></tr>\\n<tr><td>$x_{1}$</td><td style=\"text-align: right;\">      -2.5</td></tr>\\n<tr><td>$x_{2}$</td><td style=\"text-align: right;\">       7  </td></tr>\\n</tbody>\\n</table>'"
      ]
     },
     "execution_count": 6,
     "metadata": {},
     "output_type": "execute_result"
    }
   ],
   "source": [
    "# Obtenemos la solución final.\n",
    "gs.solucion()"
   ]
  },
  {
   "cell_type": "markdown",
   "id": "bebbbc57-5f89-48e7-b585-7dc691ae8bdf",
   "metadata": {},
   "source": [
    "## Ejemplo 2: Gauss-Seidel con Sobrerrelajación (SOR)\n",
    " \n",
    " **Problema (Chapra, \"Applied Numerical Methods with Python\"):**\n",
    " \n",
    " Resolver el siguiente sistema usando Gauss-Seidel con un factor de relajación $\\lambda = 1.2$ y una tolerancia del 10%.\n",
    " \n",
    " $$\n",
    " \\begin{align*}\n",
    " 10x_1 - 2x_2 &= 8 \\\\\n",
    " -3x_1 + 12x_2 &= 9\n",
    " \\end{align*}\n",
    " $$\n"
   ]
  },
  {
   "cell_type": "code",
   "execution_count": 7,
   "id": "48d18376-d62e-4b54-b851-d2913d5fd273",
   "metadata": {},
   "outputs": [
    {
     "name": "stdout",
     "output_type": "stream",
     "text": [
      "Matriz A:\n"
     ]
    },
    {
     "data": {
      "text/latex": [
       "$\\displaystyle \\left[\\begin{array}{cc}10&-2\\\\-3&12\\end{array}\\right]$"
      ],
      "text/plain": [
       "<IPython.core.display.Math object>"
      ]
     },
     "metadata": {},
     "output_type": "display_data"
    }
   ],
   "source": [
    "# Definimos la matriz A para el segundo ejemplo.\n",
    "A = np.array([[10, -2],[-3, 12]])\n",
    "print(\"Matriz A:\")\n",
    "mostrar_matrix(A)"
   ]
  },
  {
   "cell_type": "code",
   "execution_count": 8,
   "id": "b5c6a39e-d3ad-4a8c-b950-30f88e204676",
   "metadata": {},
   "outputs": [
    {
     "name": "stdout",
     "output_type": "stream",
     "text": [
      "Vector b:\n"
     ]
    },
    {
     "data": {
      "text/latex": [
       "$\\displaystyle \\left[\\begin{array}{c}8\\\\9\\end{array}\\right]$"
      ],
      "text/plain": [
       "<IPython.core.display.Math object>"
      ]
     },
     "metadata": {},
     "output_type": "display_data"
    }
   ],
   "source": [
    "# Definimos el vector b.\n",
    "b=np.array([[8],[9]])\n",
    "print(\"Vector b:\")\n",
    "mostrar_matrix(b)"
   ]
  },
  {
   "cell_type": "code",
   "execution_count": 9,
   "id": "a19d320b-7b73-40f9-aba8-a26e2c9eeac9",
   "metadata": {},
   "outputs": [],
   "source": [
    "# Instanciamos la clase, esta vez incluyendo el `factor_lambda` para aplicar SOR.\n",
    "gs = GaussSediel(A,b,tol_porc=10, factor_lambda=1.2)"
   ]
  },
  {
   "cell_type": "code",
   "execution_count": 10,
   "id": "1a835a57-f7a1-4faf-b557-c03d7e144701",
   "metadata": {},
   "outputs": [
    {
     "name": "stdout",
     "output_type": "stream",
     "text": [
      "Tabla de iteraciones con SOR (λ=1.2):\n"
     ]
    },
    {
     "data": {
      "text/html": [
       "<table>\n",
       "<thead>\n",
       "<tr><th style=\"text-align: center;\"> Iteración </th><th style=\"text-align: right;\">  $x_{0}$</th><th style=\"text-align: right;\">  $x_{1}$</th><th style=\"text-align: right;\">  $\\varepsilon_{a}[\\%]$</th></tr>\n",
       "</thead>\n",
       "<tbody>\n",
       "<tr><td style=\"text-align: center;\">     1     </td><td style=\"text-align: right;\"> 0.96    </td><td style=\"text-align: right;\"> 1.188   </td><td style=\"text-align: right;\">              100      </td></tr>\n",
       "<tr><td style=\"text-align: center;\">     2     </td><td style=\"text-align: right;\"> 1.05312 </td><td style=\"text-align: right;\"> 0.978336</td><td style=\"text-align: right;\">               21.4307 </td></tr>\n",
       "<tr><td style=\"text-align: center;\">     3     </td><td style=\"text-align: right;\"> 0.984177</td><td style=\"text-align: right;\"> 0.999586</td><td style=\"text-align: right;\">                7.00518</td></tr>\n",
       "</tbody>\n",
       "</table>"
      ],
      "text/plain": [
       "'<table>\\n<thead>\\n<tr><th style=\"text-align: center;\"> Iteración </th><th style=\"text-align: right;\">  $x_{0}$</th><th style=\"text-align: right;\">  $x_{1}$</th><th style=\"text-align: right;\">  $\\\\varepsilon_{a}[\\\\%]$</th></tr>\\n</thead>\\n<tbody>\\n<tr><td style=\"text-align: center;\">     1     </td><td style=\"text-align: right;\"> 0.96    </td><td style=\"text-align: right;\"> 1.188   </td><td style=\"text-align: right;\">              100      </td></tr>\\n<tr><td style=\"text-align: center;\">     2     </td><td style=\"text-align: right;\"> 1.05312 </td><td style=\"text-align: right;\"> 0.978336</td><td style=\"text-align: right;\">               21.4307 </td></tr>\\n<tr><td style=\"text-align: center;\">     3     </td><td style=\"text-align: right;\"> 0.984177</td><td style=\"text-align: right;\"> 0.999586</td><td style=\"text-align: right;\">                7.00518</td></tr>\\n</tbody>\\n</table>'"
      ]
     },
     "execution_count": 10,
     "metadata": {},
     "output_type": "execute_result"
    }
   ],
   "source": [
    "# Generamos la tabla de iteraciones. El uso de la relajación puede reducir el número de iteraciones necesarias.\n",
    "print(\"Tabla de iteraciones con SOR (λ=1.2):\")\n",
    "gs.generar_tabla()"
   ]
  }
 ],
 "metadata": {
  "kernelspec": {
   "display_name": "Python 3 (ipykernel)",
   "language": "python",
   "name": "python3"
  },
  "language_info": {
   "codemirror_mode": {
    "name": "ipython",
    "version": 3
   },
   "file_extension": ".py",
   "mimetype": "text/x-python",
   "name": "python",
   "nbconvert_exporter": "python",
   "pygments_lexer": "ipython3",
   "version": "3.10.12"
  }
 },
 "nbformat": 4,
 "nbformat_minor": 5
}
