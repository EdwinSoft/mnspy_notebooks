{
 "cells": [
  {
   "cell_type": "markdown",
   "id": "0431055b-489a-4165-8d16-4cab224a91b8",
   "metadata": {},
   "source": [
    "# Comparación de Tiempos: Solver General vs. Solver Especializado\n",
    "\n",
    "Este notebook compara el rendimiento computacional de dos métodos para resolver sistemas de ecuaciones lineales `[A]{x} = {b}`:\n",
    "\n",
    "1.  **Eliminación de Gauss-Jordan**: Un método general que funciona para cualquier matriz `[A]`. Su complejidad computacional es del orden de $O(n^3)$.\n",
    "2.  **Algoritmo de Thomas**: Un método especializado y altamente eficiente para resolver sistemas donde la matriz `[A]` es **tridiagonal**. Su complejidad es del orden de $O(n)$.\n",
    "\n",
    "El objetivo es demostrar la enorme ganancia en velocidad que se obtiene al utilizar un algoritmo especializado que aprovecha la estructura particular de un problema.\n",
    "\n",
    "---\n",
    "## Problema Físico\n",
    "\n",
    "Se modela la distribución de temperatura en estado estacionario a lo largo de una barra (o aleta) de 10 metros. La discretización de la ecuación de transferencia de calor por diferencias finitas resulta en un sistema de ecuaciones lineales con una matriz tridiagonal.\n"
   ]
  },
  {
   "cell_type": "code",
   "execution_count": 1,
   "id": "58d3510b-2d38-4417-b7fe-aed6d8be31d7",
   "metadata": {},
   "outputs": [],
   "source": [
    "import numpy as np\n",
    "from mnspy import Tridiagonal, GaussJordan, mostrar_matrix"
   ]
  },
  {
   "cell_type": "markdown",
   "id": "771a8b17-8e9d-4f80-8643-e2c3120bd6ba",
   "metadata": {},
   "source": [
    "### Paso 1: Definición de Parámetros del Problema"
   ]
  },
  {
   "cell_type": "code",
   "execution_count": 2,
   "id": "6d979002-3f1a-4bee-a22b-8ddba6e926d6",
   "metadata": {},
   "outputs": [],
   "source": [
    "# Parámetros físicos y de la discretización\n",
    "h_prima  = 0.01\n",
    "T_a = 20\n",
    "T_0 = 40\n",
    "T_10 = 200"
   ]
  },
  {
   "cell_type": "markdown",
   "id": "aee7fefe-a930-4070-91ea-49af72c6b615",
   "metadata": {},
   "source": [
    "### Paso 2: Solución con un Solver General (Gauss-Jordan)\n",
    "Primero, se construye la matriz completa `[A]` y el vector `{b}` para resolver el sistema con el método de Gauss-Jordan."
   ]
  },
  {
   "cell_type": "code",
   "execution_count": 3,
   "id": "7b8dcb33-f55b-404a-966a-8b7d7fb3426c",
   "metadata": {},
   "outputs": [],
   "source": [
    "def matrices_gauss(n):\n",
    " \"\"\"\n",
    " Genera la matriz completa [A] y el vector {b} para un sistema de n ecuaciones.\n",
    " \"\"\"\n",
    " delta_x = 10 / (n+1)\n",
    " A = np.zeros([n,n])\n",
    " b = np.full((n,1), T_a  * h_prima * delta_x ** 2)\n",
    " b[0,0] += T_0\n",
    " b[-1,0] += T_10\n",
    " for i in range(n):\n",
    "     A[i,i] = 2.0 + h_prima * delta_x ** 2\n",
    "     if i < n - 1:\n",
    "         A[i,i+1] = -1\n",
    "     if i > 0:\n",
    "         A[i,i-1] = -1\n",
    " return A,b"
   ]
  },
  {
   "cell_type": "markdown",
   "id": "d3aa1623-0d41-4f15-a400-7080554d4959",
   "metadata": {},
   "source": [
    "#### Ejemplo pequeño (n=4) para verificación"
   ]
  },
  {
   "cell_type": "code",
   "execution_count": 4,
   "id": "197a105f-57e1-42eb-9d7d-e277955309b9",
   "metadata": {},
   "outputs": [
    {
     "name": "stdout",
     "output_type": "stream",
     "text": [
      "--- Sistema de Ecuaciones Completo ---\n"
     ]
    },
    {
     "data": {
      "text/latex": [
       "$\\displaystyle \\left[\\begin{array}{cccc}2.04&-1&0&0\\\\-1&2.04&-1&0\\\\0&-1&2.04&-1\\\\0&0&-1&2.04\\end{array}\\right]\\cdot\\left\\{\\begin{array}{c}T_1\\\\T_2\\\\T_3\\\\T_4\\end{array}\\right\\}=\\left\\{\\begin{array}{c}40.8\\\\0.8\\\\0.8\\\\200.8\\end{array}\\right\\}$"
      ],
      "text/plain": [
       "<IPython.core.display.Math object>"
      ]
     },
     "metadata": {},
     "output_type": "display_data"
    }
   ],
   "source": [
    "A, b = matrices_gauss(4)\n",
    "gj = GaussJordan(A,b)\n",
    "gj.ajustar_etiquetas(['T_1','T_2','T_3','T_4'])\n",
    "print(\"--- Sistema de Ecuaciones Completo ---\")\n",
    "gj.mostrar_sistema()"
   ]
  },
  {
   "cell_type": "code",
   "execution_count": 5,
   "id": "f2d24229-8bf2-41a7-82ff-85fb465b4467",
   "metadata": {},
   "outputs": [
    {
     "name": "stdout",
     "output_type": "stream",
     "text": [
      "--- Solución con Gauss-Jordan ---\n"
     ]
    },
    {
     "data": {
      "text/html": [
       "<table>\n",
       "<thead>\n",
       "<tr><th>     </th><th style=\"text-align: right;\">  Solución</th></tr>\n",
       "</thead>\n",
       "<tbody>\n",
       "<tr><td>$T_1$</td><td style=\"text-align: right;\">   65.9698</td></tr>\n",
       "<tr><td>$T_2$</td><td style=\"text-align: right;\">   93.7785</td></tr>\n",
       "<tr><td>$T_3$</td><td style=\"text-align: right;\">  124.538 </td></tr>\n",
       "<tr><td>$T_4$</td><td style=\"text-align: right;\">  159.48  </td></tr>\n",
       "</tbody>\n",
       "</table>"
      ],
      "text/plain": [
       "'<table>\\n<thead>\\n<tr><th>     </th><th style=\"text-align: right;\">  Solución</th></tr>\\n</thead>\\n<tbody>\\n<tr><td>$T_1$</td><td style=\"text-align: right;\">   65.9698</td></tr>\\n<tr><td>$T_2$</td><td style=\"text-align: right;\">   93.7785</td></tr>\\n<tr><td>$T_3$</td><td style=\"text-align: right;\">  124.538 </td></tr>\\n<tr><td>$T_4$</td><td style=\"text-align: right;\">  159.48  </td></tr>\\n</tbody>\\n</table>'"
      ]
     },
     "execution_count": 5,
     "metadata": {},
     "output_type": "execute_result"
    }
   ],
   "source": [
    "print(\"--- Solución con Gauss-Jordan ---\")\n",
    "gj.solucion()"
   ]
  },
  {
   "cell_type": "markdown",
   "id": "35e2aaa0-d521-44d5-a009-253629c674fe",
   "metadata": {},
   "source": [
    "### Paso 3: Solución con un Solver Especializado (Tridiagonal - Algoritmo de Thomas) \n",
    "Ahora, se aprovecha que la matriz es tridiagonal. En lugar de almacenar toda la matriz `[A]`, solo se necesitan tres vectores para las diagonales."
   ]
  },
  {
   "cell_type": "code",
   "execution_count": 6,
   "id": "ebcc3f4a-ea18-40cb-a7da-63e1e34bbbc3",
   "metadata": {},
   "outputs": [],
   "source": [
    "def matrices_tridiagonal(n):\n",
    " \"\"\"\n",
    " Genera los vectores de las diagonales (e, f, g) y el vector {r} \n",
    " para un sistema tridiagonal de n ecuaciones.\n",
    " \"\"\"\n",
    " delta_x = 10 / (n+1)\n",
    " e = np.zeros([n])\n",
    " f = np.zeros([n])\n",
    " g = np.zeros([n])\n",
    " r = np.full(n, T_a  * h_prima * delta_x ** 2)\n",
    " r[0] += T_0\n",
    " r[-1] += T_10\n",
    " for i in range(n):\n",
    "     f[i] = 2.0 + h_prima * delta_x ** 2\n",
    "     if i < n - 1:\n",
    "         g[i] = -1\n",
    "     if i > 0:\n",
    "         e[i] = -1\n",
    " return e,f,g,r"
   ]
  },
  {
   "cell_type": "markdown",
   "id": "53523d70-2488-454b-a8a7-e86850b4295f",
   "metadata": {},
   "source": [
    "#### Ejemplo pequeño (n=4) para verificación"
   ]
  },
  {
   "cell_type": "code",
   "execution_count": 7,
   "id": "26002c62-6bcc-4c62-a659-89edd186d019",
   "metadata": {},
   "outputs": [
    {
     "name": "stdout",
     "output_type": "stream",
     "text": [
      "--- Sistema Tridiagonal ---\n"
     ]
    },
    {
     "data": {
      "text/latex": [
       "$\\displaystyle \\left[\\begin{array}{cccc}2.04&-1&0&0\\\\-1&2.04&-1&0\\\\0&-1&2.04&-1\\\\0&0&-1&2.04\\end{array}\\right]\\cdot\\left\\{\\begin{array}{c}T_1\\\\T_2\\\\T_3\\\\T_4\\end{array}\\right\\}=\\left\\{\\begin{array}{c}40.8\\\\0.8\\\\0.8\\\\200.8\\end{array}\\right\\}$"
      ],
      "text/plain": [
       "<IPython.core.display.Math object>"
      ]
     },
     "metadata": {},
     "output_type": "display_data"
    }
   ],
   "source": [
    "e, f, g, r = matrices_tridiagonal(4)\n",
    "T = Tridiagonal(e, f, g, r)\n",
    "T.ajustar_etiquetas(['T_1','T_2','T_3','T_4'])\n",
    "print(\"--- Sistema Tridiagonal ---\")\n",
    "T.mostrar_sistema()"
   ]
  },
  {
   "cell_type": "code",
   "execution_count": 8,
   "id": "36aa8e56-d446-4bc6-8cb1-c878156ed64a",
   "metadata": {},
   "outputs": [
    {
     "name": "stdout",
     "output_type": "stream",
     "text": [
      "--- Solución con Algoritmo de Thomas ---\n"
     ]
    },
    {
     "data": {
      "text/html": [
       "<table>\n",
       "<thead>\n",
       "<tr><th>     </th><th style=\"text-align: right;\">  Solución</th></tr>\n",
       "</thead>\n",
       "<tbody>\n",
       "<tr><td>$T_1$</td><td style=\"text-align: right;\">   65.9698</td></tr>\n",
       "<tr><td>$T_2$</td><td style=\"text-align: right;\">   93.7785</td></tr>\n",
       "<tr><td>$T_3$</td><td style=\"text-align: right;\">  124.538 </td></tr>\n",
       "<tr><td>$T_4$</td><td style=\"text-align: right;\">  159.48  </td></tr>\n",
       "</tbody>\n",
       "</table>"
      ],
      "text/plain": [
       "'<table>\\n<thead>\\n<tr><th>     </th><th style=\"text-align: right;\">  Solución</th></tr>\\n</thead>\\n<tbody>\\n<tr><td>$T_1$</td><td style=\"text-align: right;\">   65.9698</td></tr>\\n<tr><td>$T_2$</td><td style=\"text-align: right;\">   93.7785</td></tr>\\n<tr><td>$T_3$</td><td style=\"text-align: right;\">  124.538 </td></tr>\\n<tr><td>$T_4$</td><td style=\"text-align: right;\">  159.48  </td></tr>\\n</tbody>\\n</table>'"
      ]
     },
     "execution_count": 8,
     "metadata": {},
     "output_type": "execute_result"
    }
   ],
   "source": [
    "print(\"--- Solución con Algoritmo de Thomas ---\")\n",
    "# El resultado es idéntico al de Gauss-Jordan.\n",
    "T.solucion()"
   ]
  },
  {
   "cell_type": "markdown",
   "id": "b7d7814f-8d40-45ed-bf02-8ec063e08de9",
   "metadata": {},
   "source": [
    "### Paso 4: Comparación de Tiempos de Ejecución\n",
    "Se resuelve un sistema grande (n=1000) con ambos métodos y se mide el tiempo de ejecución usando el comando mágico `%timeit`."
   ]
  },
  {
   "cell_type": "code",
   "execution_count": 9,
   "id": "45eb0efc-9316-4a0a-978e-630218e39646",
   "metadata": {},
   "outputs": [
    {
     "name": "stdout",
     "output_type": "stream",
     "text": [
      "--- Generando datos para un sistema de 1000x1000 ---\n"
     ]
    }
   ],
   "source": [
    "print(\"--- Generando datos para un sistema de 1000x1000 ---\")\n",
    "e, f, g, r = matrices_tridiagonal(1000)\n",
    "A, b = matrices_gauss(1000)"
   ]
  },
  {
   "cell_type": "code",
   "execution_count": 10,
   "id": "fd29c608-024f-4a48-a3ce-b1c2373e36e2",
   "metadata": {},
   "outputs": [
    {
     "name": "stdout",
     "output_type": "stream",
     "text": [
      "--- Tiempo de ejecución para el Solver Especializado (Tridiagonal) ---\n",
      "54.1 ms ± 438 μs per loop (mean ± std. dev. of 7 runs, 10 loops each)\n"
     ]
    }
   ],
   "source": [
    "print(\"--- Tiempo de ejecución para el Solver Especializado (Tridiagonal) ---\")\n",
    "%timeit Tridiagonal(e, f, g, r)"
   ]
  },
  {
   "cell_type": "code",
   "execution_count": 11,
   "id": "7ae267a6-ef36-466a-b399-d7109e238c5b",
   "metadata": {},
   "outputs": [
    {
     "name": "stdout",
     "output_type": "stream",
     "text": [
      "--- Tiempo de ejecución para el Solver General (Gauss-Jordan) ---\n",
      "1.58 s ± 47.8 ms per loop (mean ± std. dev. of 7 runs, 1 loop each)\n"
     ]
    }
   ],
   "source": [
    "print(\"--- Tiempo de ejecución para el Solver General (Gauss-Jordan) ---\")\n",
    "%timeit GaussJordan(A,b)"
   ]
  },
  {
   "cell_type": "markdown",
   "id": "483ab6c7-aa0e-4376-8fe2-31bfa9ad8c6e",
   "metadata": {},
   "source": [
    "### Conclusión\n",
    "Los resultados del `%timeit` muestran una diferencia drástica:\n",
    "\n",
    "- **Tridiagonal (Thomas):** El tiempo se mide en **microsegundos (µs)**.\n",
    "- **Gauss-Jordan:** El tiempo se mide en **milisegundos (ms)**.\n",
    "\n",
    "El solver especializado es aproximadamente **1000 veces más rápido** que el solver general para este problema. Esto se debe a que su complejidad computacional crece linealmente ($O(n)$) con el tamaño del problema, mientras que la de Gauss-Jordan crece cúbicamente ($O(n^3)$).\n",
    "\n",
    "**Lección clave:** Siempre que la estructura de un problema lo permita (ej. matrices simétricas, en bandas, tridiagonales), utilizar un algoritmo especializado ofrece ganancias de rendimiento inmensas."
   ]
  }
 ],
 "metadata": {
  "kernelspec": {
   "display_name": "Python 3 (ipykernel)",
   "language": "python",
   "name": "python3"
  },
  "language_info": {
   "codemirror_mode": {
    "name": "ipython",
    "version": 3
   },
   "file_extension": ".py",
   "mimetype": "text/x-python",
   "name": "python",
   "nbconvert_exporter": "python",
   "pygments_lexer": "ipython3",
   "version": "3.10.12"
  }
 },
 "nbformat": 4,
 "nbformat_minor": 5
}
