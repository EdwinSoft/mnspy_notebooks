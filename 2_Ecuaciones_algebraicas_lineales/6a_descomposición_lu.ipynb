{
 "cells": [
  {
   "cell_type": "markdown",
   "id": "0fc7f20a-2dcf-421f-b5fd-55f73454597c",
   "metadata": {},
   "source": [
    "# Descomposición LU para Resolver Sistemas de Ecuaciones Lineales\n",
    "La **descomposición o factorización LU** es un método para resolver sistemas de ecuaciones lineales `[A]{x} = {b}`. Consiste en descomponer la matriz de coeficientes `[A]` en el producto de dos matrices:\n",
    "- `[L]`: Una matriz triangular **inferior** (Lower).\n",
    "- `[U]`: Una matriz triangular **superior** (Upper).\n",
    "\n",
    "$$ [A] = [L][U] $$\n",
    "\n",
    "La gran ventaja de este método es su eficiencia cuando se necesita resolver el sistema para **múltiples vectores de términos independientes `{b}`**. La descomposición `[A] = [L][U]` se realiza una sola vez (que es el paso computacionalmente más costoso). Luego, para cada `{b}`, la solución se encuentra rápidamente mediante dos pasos de sustitución:\n",
    "1.  **Sustitución hacia adelante:** Se resuelve `[L]{d} = {b}` para encontrar el vector intermedio `{d}`.\n",
    "2.  **Sustitución hacia atrás:** Se resuelve `[U]{x} = {d}` para encontrar la solución final `{x}`.\n",
    "\n",
    "---\n",
    "## Problema\n",
    "\n",
    "**Ejercicio 9, obtenido de Numerical Analysis - U of A**\n",
    "\n",
    "Encontrar la factorización LU de la siguiente matriz:\n",
    "$$A=\\begin{pmatrix}10&2&-1\\\\-3&-6&2\\\\1&1&5 \\end{pmatrix} $$\n",
    "\n",
    "Utilizar los resultados para encontrar las soluciones del sistema `Ax = b` para los siguientes dos vectores `{b}`:\n",
    "$$ b_1=\\begin{Bmatrix}12\\\\18\\\\-6\\end{Bmatrix} \\quad , \\quad b_2=\\begin{Bmatrix}27\\\\-61.5\\\\-21.5\\end{Bmatrix} $$\n"
   ]
  },
  {
   "cell_type": "code",
   "execution_count": 1,
   "id": "0ba90a66-1610-4452-b778-fb03c992e850",
   "metadata": {},
   "outputs": [],
   "source": [
    "from mnspy import DescomposicionLU, mostrar_matrix\n",
    "import numpy as np"
   ]
  },
  {
   "cell_type": "markdown",
   "id": "13612f7c-0794-4e6a-9ded-48c7dc9a29ac",
   "metadata": {},
   "source": [
    "### Paso 1: Definir la Matriz A"
   ]
  },
  {
   "cell_type": "code",
   "execution_count": 2,
   "id": "c1ef12b3-3c90-4c35-ba1f-52f4bb2a7fb9",
   "metadata": {},
   "outputs": [
    {
     "name": "stdout",
     "output_type": "stream",
     "text": [
      "--- Matriz A ---\n"
     ]
    },
    {
     "data": {
      "text/latex": [
       "$\\displaystyle \\left[\\begin{array}{ccc}10&2&-1\\\\-3&-6&2\\\\1&1&5\\end{array}\\right]$"
      ],
      "text/plain": [
       "<IPython.core.display.Math object>"
      ]
     },
     "metadata": {},
     "output_type": "display_data"
    }
   ],
   "source": [
    "# Definimos la matriz de coeficientes A usando NumPy.\n",
    "A = np.array([[10, 2, -1], [-3, -6, 2], [1, 1, 5]])\n",
    "print(\"--- Matriz A ---\")\n",
    "mostrar_matrix(A)"
   ]
  },
  {
   "cell_type": "markdown",
   "id": "4598231d-ca90-4c41-a97f-f0d8981f16ea",
   "metadata": {},
   "source": [
    "### Paso 2: Realizar la Descomposición LU"
   ]
  },
  {
   "cell_type": "code",
   "execution_count": 3,
   "id": "8479a869-735e-4019-9f9e-f5756b8b5ffe",
   "metadata": {},
   "outputs": [],
   "source": [
    "# Creamos una instancia de la clase `DescomposicionLU` que realiza la factorización.\n",
    "# Al mostrar el objeto, se presentan las matrices L y U resultantes.\n",
    "\n",
    "dLU = DescomposicionLU(A)"
   ]
  },
  {
   "cell_type": "code",
   "execution_count": 4,
   "id": "0c4d2026-3f98-4520-bdc8-c6f18df9faf6",
   "metadata": {},
   "outputs": [
    {
     "name": "stdout",
     "output_type": "stream",
     "text": [
      "--- Matriz L---\n"
     ]
    },
    {
     "data": {
      "text/latex": [
       "$\\displaystyle \\left[\\begin{array}{ccc}1.0&0.0&0.0\\\\-0.3&1.0&0.0\\\\0.1&-0.14814814814814814&1.0\\end{array}\\right]$"
      ],
      "text/plain": [
       "<IPython.core.display.Math object>"
      ]
     },
     "metadata": {},
     "output_type": "display_data"
    }
   ],
   "source": [
    "print(\"--- Matriz L---\")\n",
    "mostrar_matrix(dLU.retornar_l())"
   ]
  },
  {
   "cell_type": "code",
   "execution_count": 5,
   "id": "7f10d671-22b1-47bc-923c-a3b07b198c93",
   "metadata": {},
   "outputs": [
    {
     "name": "stdout",
     "output_type": "stream",
     "text": [
      "--- Matriz U---\n"
     ]
    },
    {
     "data": {
      "text/latex": [
       "$\\displaystyle \\left[\\begin{array}{ccc}10.0&2.0&-1.0\\\\0.0&-5.4&1.7\\\\0.0&0.0&5.351851851851851\\end{array}\\right]$"
      ],
      "text/plain": [
       "<IPython.core.display.Math object>"
      ]
     },
     "metadata": {},
     "output_type": "display_data"
    }
   ],
   "source": [
    "print(\"--- Matriz U---\")\n",
    "mostrar_matrix(dLU.retornar_u())"
   ]
  },
  {
   "cell_type": "markdown",
   "id": "a0ace628-e9d4-4165-9dc1-fdd0b7beac9b",
   "metadata": {},
   "source": [
    "### Paso 3: Solución para el primer vector b"
   ]
  },
  {
   "cell_type": "code",
   "execution_count": 6,
   "id": "fd068959-5de0-40cb-a4d3-0ef08212926f",
   "metadata": {},
   "outputs": [
    {
     "name": "stdout",
     "output_type": "stream",
     "text": [
      "--- Vector b1 ---\n"
     ]
    },
    {
     "data": {
      "text/latex": [
       "$\\displaystyle \\left[\\begin{array}{c}12\\\\18\\\\-6\\end{array}\\right]$"
      ],
      "text/plain": [
       "<IPython.core.display.Math object>"
      ]
     },
     "metadata": {},
     "output_type": "display_data"
    }
   ],
   "source": [
    "# Definimos el primer vector de términos independientes b1.\n",
    "b1 = np.array([[12], [18], [-6]])\n",
    "print(\"--- Vector b1 ---\")\n",
    "mostrar_matrix(b1)"
   ]
  },
  {
   "cell_type": "markdown",
   "id": "2dfcbc53-7b0f-44fb-b74f-a388e10fb726",
   "metadata": {},
   "source": [
    "Usamos el método `sustituir` para resolver el sistema [L]{d}={b} y [U]{x}={d}.\n",
    "\n",
    "El método `solucion()` muestra el vector de solución {x1}."
   ]
  },
  {
   "cell_type": "code",
   "execution_count": 7,
   "id": "e99ba22a-ab0c-401a-8450-f7f6432501e7",
   "metadata": {},
   "outputs": [
    {
     "name": "stdout",
     "output_type": "stream",
     "text": [
      "\n",
      "--- Solución x1 ---\n"
     ]
    },
    {
     "data": {
      "text/html": [
       "<table>\n",
       "<thead>\n",
       "<tr><th>       </th><th style=\"text-align: right;\">  Solución</th></tr>\n",
       "</thead>\n",
       "<tbody>\n",
       "<tr><td>$x_{0}$</td><td style=\"text-align: right;\">  1.97232 </td></tr>\n",
       "<tr><td>$x_{1}$</td><td style=\"text-align: right;\"> -4.23529 </td></tr>\n",
       "<tr><td>$x_{2}$</td><td style=\"text-align: right;\"> -0.747405</td></tr>\n",
       "</tbody>\n",
       "</table>"
      ],
      "text/plain": [
       "'<table>\\n<thead>\\n<tr><th>       </th><th style=\"text-align: right;\">  Solución</th></tr>\\n</thead>\\n<tbody>\\n<tr><td>$x_{0}$</td><td style=\"text-align: right;\">  1.97232 </td></tr>\\n<tr><td>$x_{1}$</td><td style=\"text-align: right;\"> -4.23529 </td></tr>\\n<tr><td>$x_{2}$</td><td style=\"text-align: right;\"> -0.747405</td></tr>\\n</tbody>\\n</table>'"
      ]
     },
     "execution_count": 7,
     "metadata": {},
     "output_type": "execute_result"
    }
   ],
   "source": [
    "dLU.sustituir(b1)\n",
    "print(\"\\n--- Solución x1 ---\")\n",
    "dLU.solucion()"
   ]
  },
  {
   "cell_type": "markdown",
   "id": "c570ef61-5dfd-4e72-bb06-d0a3d04d09a3",
   "metadata": {},
   "source": [
    "### Paso 4: Solución para el segundo vector b\n",
    "La ventaja de la descomposición LU es que no necesitamos recalcular L y U.\n",
    "\n",
    "Simplemente usamos la descomposición ya hecha para el nuevo vector b2."
   ]
  },
  {
   "cell_type": "code",
   "execution_count": 8,
   "id": "5346b455-5bc4-44ab-bcff-146860655dd4",
   "metadata": {},
   "outputs": [
    {
     "name": "stdout",
     "output_type": "stream",
     "text": [
      "--- Vector b2 ---\n"
     ]
    },
    {
     "data": {
      "text/latex": [
       "$\\displaystyle \\left[\\begin{array}{c}27.0\\\\-61.5\\\\-21.5\\end{array}\\right]$"
      ],
      "text/plain": [
       "<IPython.core.display.Math object>"
      ]
     },
     "metadata": {},
     "output_type": "display_data"
    }
   ],
   "source": [
    "# Definimos el segundo vector de términos independientes b2.\n",
    "b2 = np.array([[27], [-61.5], [-21.5]])\n",
    "print(\"--- Vector b2 ---\")\n",
    "mostrar_matrix(b2)"
   ]
  },
  {
   "cell_type": "code",
   "execution_count": 9,
   "id": "00a911ad-a2ab-452a-b474-9c58710fa39a",
   "metadata": {},
   "outputs": [
    {
     "name": "stdout",
     "output_type": "stream",
     "text": [
      "\n",
      "--- Solución x2 ---\n"
     ]
    },
    {
     "data": {
      "text/html": [
       "<table>\n",
       "<thead>\n",
       "<tr><th>       </th><th style=\"text-align: right;\">  Solución</th></tr>\n",
       "</thead>\n",
       "<tbody>\n",
       "<tr><td>$x_{0}$</td><td style=\"text-align: right;\">       0.5</td></tr>\n",
       "<tr><td>$x_{1}$</td><td style=\"text-align: right;\">       8  </td></tr>\n",
       "<tr><td>$x_{2}$</td><td style=\"text-align: right;\">      -6  </td></tr>\n",
       "</tbody>\n",
       "</table>"
      ],
      "text/plain": [
       "'<table>\\n<thead>\\n<tr><th>       </th><th style=\"text-align: right;\">  Solución</th></tr>\\n</thead>\\n<tbody>\\n<tr><td>$x_{0}$</td><td style=\"text-align: right;\">       0.5</td></tr>\\n<tr><td>$x_{1}$</td><td style=\"text-align: right;\">       8  </td></tr>\\n<tr><td>$x_{2}$</td><td style=\"text-align: right;\">      -6  </td></tr>\\n</tbody>\\n</table>'"
      ]
     },
     "execution_count": 9,
     "metadata": {},
     "output_type": "execute_result"
    }
   ],
   "source": [
    "# Resolvemos para el nuevo vector b2.\n",
    "dLU.sustituir(b2)\n",
    "print(\"\\n--- Solución x2 ---\")\n",
    "dLU.solucion()"
   ]
  }
 ],
 "metadata": {
  "kernelspec": {
   "display_name": "Python 3 (ipykernel)",
   "language": "python",
   "name": "python3"
  },
  "language_info": {
   "codemirror_mode": {
    "name": "ipython",
    "version": 3
   },
   "file_extension": ".py",
   "mimetype": "text/x-python",
   "name": "python",
   "nbconvert_exporter": "python",
   "pygments_lexer": "ipython3",
   "version": "3.10.12"
  }
 },
 "nbformat": 4,
 "nbformat_minor": 5
}
