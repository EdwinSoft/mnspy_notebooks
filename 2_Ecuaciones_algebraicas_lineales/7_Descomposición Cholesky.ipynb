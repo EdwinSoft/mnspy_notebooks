{
 "cells": [
  {
   "cell_type": "markdown",
   "id": "232f7652-e22b-4dca-b915-b8e0d730b7bc",
   "metadata": {},
   "source": [
    "# Descomposición Cholesky\n",
    "La **descomposición de Cholesky** es un método de factorización de matrices que descompone una matriz en el producto de una matriz triangular inferior `L` y su transpuesta `Lᵀ`.\n",
    " \n",
    " $$ A = L \\cdot L^T $$\n",
    " \n",
    " Este método es significativamente más eficiente que la descomposición LU (aproximadamente el doble de rápido), pero tiene un requisito estricto: solo se puede aplicar a matrices que son **simétricas y definidas positivas**.\n",
    " \n",
    " Una vez obtenida la matriz `L`, la solución del sistema `A * x = b` se encuentra de manera similar a la descomposición LU:\n",
    " 1.  **Sustitución hacia adelante:** Se resuelve `L * d = b` para `d`.\n",
    " 2.  **Sustitución hacia atrás:** Se resuelve `Lᵀ * x = d` para `x`.\n"
   ]
  },
  {
   "cell_type": "markdown",
   "id": "9f24ec43-0a82-47ca-80e1-c60e4dc5e665",
   "metadata": {},
   "source": [
    "## Ejemplo 1: Sistema 3x3"
   ]
  },
  {
   "cell_type": "code",
   "execution_count": 1,
   "id": "9b66aac6-88a5-4240-8752-f07d99cbe4fa",
   "metadata": {},
   "outputs": [],
   "source": [
    "from mnspy import DescomposicionCholesky, mostrar_matrix\n",
    "import numpy as np"
   ]
  },
  {
   "cell_type": "code",
   "execution_count": 2,
   "id": "45b31c5b-ff05-413b-90b4-64329ab690e8",
   "metadata": {},
   "outputs": [
    {
     "name": "stdout",
     "output_type": "stream",
     "text": [
      "Matriz A:\n"
     ]
    },
    {
     "data": {
      "text/latex": [
       "$\\displaystyle \\left[\\begin{array}{ccc}6&15&55\\\\15&55&225\\\\55&225&979\\end{array}\\right]$"
      ],
      "text/plain": [
       "<IPython.core.display.Math object>"
      ]
     },
     "metadata": {},
     "output_type": "display_data"
    }
   ],
   "source": [
    "# Definimos una matriz A que es simétrica y definida positiva.\n",
    "A = np.array([[6, 15, 55],[15, 55, 225], [55, 225, 979]])\n",
    "print(\"Matriz A:\")\n",
    "mostrar_matrix(A)"
   ]
  },
  {
   "cell_type": "code",
   "execution_count": 3,
   "id": "9eeda897-ab02-4df7-896b-32dbef033b0b",
   "metadata": {},
   "outputs": [],
   "source": [
    "# Creamos una instancia de la clase `DescomposicionCholesky` que realiza la factorización.\n",
    "ch = DescomposicionCholesky(A)"
   ]
  },
  {
   "cell_type": "code",
   "execution_count": 4,
   "id": "1b2da728-cbac-4bcb-a3f9-fbf0d8283344",
   "metadata": {},
   "outputs": [
    {
     "name": "stdout",
     "output_type": "stream",
     "text": [
      "Matriz U (Lᵀ):\n"
     ]
    },
    {
     "data": {
      "text/latex": [
       "$\\displaystyle \\left[\\begin{array}{ccc}2.449489742783178&6.123724356957946&22.45365597551247\\\\0.0&4.183300132670377&20.916500663351886\\\\0.0&0.0&6.110100926607781\\end{array}\\right]$"
      ],
      "text/plain": [
       "<IPython.core.display.Math object>"
      ]
     },
     "metadata": {},
     "output_type": "display_data"
    }
   ],
   "source": [
    "# Mostramos la matriz triangular superior U (que es Lᵀ en la fórmula A = L·Lᵀ).\n",
    "print(\"Matriz U (Lᵀ):\")\n",
    "mostrar_matrix(ch.retornar_u())"
   ]
  },
  {
   "cell_type": "code",
   "execution_count": 5,
   "id": "aed2bd6c-9355-4627-bf56-d79693359669",
   "metadata": {},
   "outputs": [
    {
     "name": "stdout",
     "output_type": "stream",
     "text": [
      "Matriz L:\n"
     ]
    },
    {
     "data": {
      "text/latex": [
       "$\\displaystyle \\left[\\begin{array}{ccc}2.449489742783178&0.0&0.0\\\\6.123724356957946&4.183300132670377&0.0\\\\22.45365597551247&20.916500663351886&6.110100926607781\\end{array}\\right]$"
      ],
      "text/plain": [
       "<IPython.core.display.Math object>"
      ]
     },
     "metadata": {},
     "output_type": "display_data"
    }
   ],
   "source": [
    "# Mostramos la matriz triangular inferior L.\n",
    "print(\"Matriz L:\")\n",
    "mostrar_matrix(ch.retornar_l())"
   ]
  },
  {
   "cell_type": "code",
   "execution_count": 6,
   "id": "31005cb4-22c3-48df-9f80-1f768d9a3fde",
   "metadata": {},
   "outputs": [
    {
     "name": "stdout",
     "output_type": "stream",
     "text": [
      "Verificación L @ U (L·Lᵀ):\n"
     ]
    },
    {
     "data": {
      "text/latex": [
       "$\\displaystyle \\left[\\begin{array}{ccc}6.000&15.000&55.000\\\\15.000&55.000&225.000\\\\55.000&225.000&979.000\\end{array}\\right]$"
      ],
      "text/plain": [
       "<IPython.core.display.Math object>"
      ]
     },
     "metadata": {},
     "output_type": "display_data"
    }
   ],
   "source": [
    "# Verificamos que el producto de L y U (Lᵀ) nos da la matriz original A.\n",
    "print(\"Verificación L @ U (L·Lᵀ):\")\n",
    "mostrar_matrix(ch.retornar_l() @ ch.retornar_u(), 3)"
   ]
  },
  {
   "cell_type": "code",
   "execution_count": 7,
   "id": "96dadf4e-6aca-44f2-abf5-4149093c63b6",
   "metadata": {},
   "outputs": [
    {
     "name": "stdout",
     "output_type": "stream",
     "text": [
      "Vector b:\n"
     ]
    },
    {
     "data": {
      "text/latex": [
       "$\\displaystyle \\left[\\begin{array}{c}76\\\\295\\\\1259\\end{array}\\right]$"
      ],
      "text/plain": [
       "<IPython.core.display.Math object>"
      ]
     },
     "metadata": {},
     "output_type": "display_data"
    }
   ],
   "source": [
    "# Definimos el vector de términos independientes b.\n",
    "b = np.matrix('76;295;1259')\n",
    "print(\"Vector b:\")\n",
    "mostrar_matrix(b)"
   ]
  },
  {
   "cell_type": "code",
   "execution_count": 8,
   "id": "0072870f-99c4-48b5-b2a9-fd8071fe22eb",
   "metadata": {},
   "outputs": [
    {
     "name": "stdout",
     "output_type": "stream",
     "text": [
      "Solución x:\n"
     ]
    },
    {
     "data": {
      "text/html": [
       "<table>\n",
       "<thead>\n",
       "<tr><th>       </th><th style=\"text-align: right;\">  Solución</th></tr>\n",
       "</thead>\n",
       "<tbody>\n",
       "<tr><td>$x_{0}$</td><td style=\"text-align: right;\">         1</td></tr>\n",
       "<tr><td>$x_{1}$</td><td style=\"text-align: right;\">         1</td></tr>\n",
       "<tr><td>$x_{2}$</td><td style=\"text-align: right;\">         1</td></tr>\n",
       "</tbody>\n",
       "</table>"
      ],
      "text/plain": [
       "'<table>\\n<thead>\\n<tr><th>       </th><th style=\"text-align: right;\">  Solución</th></tr>\\n</thead>\\n<tbody>\\n<tr><td>$x_{0}$</td><td style=\"text-align: right;\">         1</td></tr>\\n<tr><td>$x_{1}$</td><td style=\"text-align: right;\">         1</td></tr>\\n<tr><td>$x_{2}$</td><td style=\"text-align: right;\">         1</td></tr>\\n</tbody>\\n</table>'"
      ]
     },
     "execution_count": 8,
     "metadata": {},
     "output_type": "execute_result"
    }
   ],
   "source": [
    "# El método `sustituir` realiza la sustitución hacia adelante y hacia atrás para encontrar la solución.\n",
    "ch.sustituir(b)\n",
    "print(\"Solución x:\")\n",
    "ch.solucion()"
   ]
  },
  {
   "cell_type": "markdown",
   "id": "abab0d3a-a3f1-4fe2-a32f-91bb1013c689",
   "metadata": {},
   "source": [
    "___\n",
    "## Ejemplo 2: Sistema 2x2"
   ]
  },
  {
   "cell_type": "code",
   "execution_count": 9,
   "id": "84fbde6f-b345-4a86-a40c-9497c904c632",
   "metadata": {},
   "outputs": [
    {
     "name": "stdout",
     "output_type": "stream",
     "text": [
      "Matriz A:\n"
     ]
    },
    {
     "data": {
      "text/latex": [
       "$\\displaystyle \\left[\\begin{array}{cc}5&-4\\\\-4&5\\end{array}\\right]$"
      ],
      "text/plain": [
       "<IPython.core.display.Math object>"
      ]
     },
     "metadata": {},
     "output_type": "display_data"
    }
   ],
   "source": [
    "# Definimos una nueva matriz A (2x2) simétrica y definida positiva.\n",
    "A = np.matrix('5 -4;-4 5')\n",
    "print(\"Matriz A:\")\n",
    "mostrar_matrix(A)"
   ]
  },
  {
   "cell_type": "code",
   "execution_count": 10,
   "id": "86fe3e8d-dc6a-4330-aa10-47ad3a48909a",
   "metadata": {},
   "outputs": [],
   "source": [
    "# Realizamos la descomposición para esta nueva matriz.\n",
    "ch =DescomposicionCholesky(A)"
   ]
  },
  {
   "cell_type": "code",
   "execution_count": 11,
   "id": "152bfa9a-a0b6-4269-bb6b-d87d034f706d",
   "metadata": {},
   "outputs": [
    {
     "name": "stdout",
     "output_type": "stream",
     "text": [
      "Matriz L:\n"
     ]
    },
    {
     "data": {
      "text/latex": [
       "$\\displaystyle \\left[\\begin{array}{cc}2.23606797749979&0.0\\\\-1.7888543819998317&1.3416407864998738\\end{array}\\right]$"
      ],
      "text/plain": [
       "<IPython.core.display.Math object>"
      ]
     },
     "metadata": {},
     "output_type": "display_data"
    }
   ],
   "source": [
    "# Mostramos la matriz L.\n",
    "print(\"Matriz L:\")\n",
    "mostrar_matrix(ch.retornar_l())"
   ]
  },
  {
   "cell_type": "code",
   "execution_count": 12,
   "id": "f181f651-abf9-43f6-b68c-7c420c7bf8bc",
   "metadata": {},
   "outputs": [
    {
     "name": "stdout",
     "output_type": "stream",
     "text": [
      "Matriz U (Lᵀ):\n"
     ]
    },
    {
     "data": {
      "text/latex": [
       "$\\displaystyle \\left[\\begin{array}{cc}2.23606797749979&-1.7888543819998317\\\\0.0&1.3416407864998738\\end{array}\\right]$"
      ],
      "text/plain": [
       "<IPython.core.display.Math object>"
      ]
     },
     "metadata": {},
     "output_type": "display_data"
    }
   ],
   "source": [
    "# Mostramos la matriz U (Lᵀ).\n",
    "print(\"Matriz U (Lᵀ):\")\n",
    "mostrar_matrix(ch.retornar_u())"
   ]
  },
  {
   "cell_type": "code",
   "execution_count": 13,
   "id": "155b5ec8-49ae-457e-a3e0-6fe96c894117",
   "metadata": {},
   "outputs": [
    {
     "name": "stdout",
     "output_type": "stream",
     "text": [
      "Verificación L @ U (L·Lᵀ):\n"
     ]
    },
    {
     "data": {
      "text/latex": [
       "$\\displaystyle \\left[\\begin{array}{cc}5.000&-4.000\\\\-4.000&5.000\\end{array}\\right]$"
      ],
      "text/plain": [
       "<IPython.core.display.Math object>"
      ]
     },
     "metadata": {},
     "output_type": "display_data"
    }
   ],
   "source": [
    "# Verificamos la descomposición.\n",
    "print(\"Verificación L @ U (L·Lᵀ):\")\n",
    "mostrar_matrix(ch.retornar_l() @ ch.retornar_u(), 3)"
   ]
  }
 ],
 "metadata": {
  "kernelspec": {
   "display_name": "Python 3 (ipykernel)",
   "language": "python",
   "name": "python3"
  },
  "language_info": {
   "codemirror_mode": {
    "name": "ipython",
    "version": 3
   },
   "file_extension": ".py",
   "mimetype": "text/x-python",
   "name": "python",
   "nbconvert_exporter": "python",
   "pygments_lexer": "ipython3",
   "version": "3.10.12"
  }
 },
 "nbformat": 4,
 "nbformat_minor": 5
}
