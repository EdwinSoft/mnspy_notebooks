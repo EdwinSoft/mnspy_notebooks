{
 "cells": [
  {
   "cell_type": "markdown",
   "id": "e21256e9-5026-4ee7-bec1-86316e0e109f",
   "metadata": {},
   "source": [
    "# Método de Gauss Jordan\n",
    "El **método de Gauss-Jordan** es una variación de la eliminación de Gauss. La principal diferencia es que, en lugar de detenerse en una matriz triangular superior, el proceso continúa hasta que la matriz de coeficientes se convierte en una **matriz identidad**.\n",
    " \n",
    " Esto se logra creando ceros tanto por debajo como por encima de la diagonal principal y luego normalizando los elementos de la diagonal a 1.\n",
    " \n",
    " La ventaja es que, al final del proceso, la solución del sistema de ecuaciones se encuentra directamente en la columna aumentada, sin necesidad de sustitución hacia atrás. Este método también es una forma estándar de calcular la **inversa de una matriz**.\n",
    " "
   ]
  },
  {
   "cell_type": "markdown",
   "id": "9dae837e-941c-4595-ae18-b742043abae7",
   "metadata": {},
   "source": [
    " ## Ejemplo: Sistema 3x3\n",
    " \n",
    " **Problema:**\n",
    " \n",
    " Resolver el siguiente sistema de ecuaciones usando el método de Gauss-Jordan:\n",
    " \n",
    " $$\n",
    " \\begin{align*}\n",
    " 3x_1 - 0.1x_2 - 0.2x_3 &= 7.85 \\\\\n",
    " 0.1x_1 + 7x_2 - 0.3x_3 &= -19.3 \\\\\n",
    " 0.3x_1 - 0.2x_2 + 10x_3 &= 71.4\n",
    " \\end{align*}\n",
    " $$"
   ]
  },
  {
   "cell_type": "code",
   "execution_count": 1,
   "id": "134e0840-b495-4278-a0ff-e27a3bae58db",
   "metadata": {},
   "outputs": [],
   "source": [
    "from mnspy import GaussJordan, mostrar_matrix\n",
    "import numpy as np"
   ]
  },
  {
   "cell_type": "code",
   "execution_count": 2,
   "id": "bb251ae5-5075-4dad-b716-c6ddba549bae",
   "metadata": {},
   "outputs": [
    {
     "name": "stdout",
     "output_type": "stream",
     "text": [
      "Matriz A:\n"
     ]
    },
    {
     "data": {
      "text/latex": [
       "$\\displaystyle \\left[\\begin{array}{ccc}3.0&-0.1&-0.2\\\\0.1&7.0&-0.3\\\\0.3&-0.2&10.0\\end{array}\\right]$"
      ],
      "text/plain": [
       "<IPython.core.display.Math object>"
      ]
     },
     "metadata": {},
     "output_type": "display_data"
    }
   ],
   "source": [
    "# Primero, definimos la matriz de coeficientes A y el vector de términos independientes b.\n",
    "A = np.array([[3, -0.1, -0.2],[0.1, 7, -0.3],[0.3, -0.2, 10]])\n",
    "print(\"Matriz A:\")\n",
    "mostrar_matrix(A)"
   ]
  },
  {
   "cell_type": "code",
   "execution_count": 3,
   "id": "2f07f393-d302-4c53-acbb-7a003221a3ea",
   "metadata": {},
   "outputs": [
    {
     "name": "stdout",
     "output_type": "stream",
     "text": [
      "Vector b:\n"
     ]
    },
    {
     "data": {
      "text/latex": [
       "$\\displaystyle \\left[\\begin{array}{c}7.85\\\\-19.3\\\\71.4\\end{array}\\right]$"
      ],
      "text/plain": [
       "<IPython.core.display.Math object>"
      ]
     },
     "metadata": {},
     "output_type": "display_data"
    }
   ],
   "source": [
    "b = np.array([[7.85], [-19.3], [71.4]])\n",
    "print(\"Vector b:\")\n",
    "mostrar_matrix(b)"
   ]
  },
  {
   "cell_type": "markdown",
   "id": "ad79ce60-574b-498c-a821-ccd69bea2f0a",
   "metadata": {},
   "source": [
    "## Solución Manual Paso a Paso\n",
    " \n",
    " A continuación, se muestra la lógica del algoritmo de Gauss-Jordan de forma manual para entender su funcionamiento.\n",
    " ### 1. Matriz Aumentada\n",
    " Se combina la matriz `A` y el vector `b` en una única matriz aumentada.\n"
   ]
  },
  {
   "cell_type": "code",
   "execution_count": 4,
   "id": "2a62f9ee-55a7-4479-834d-a8e9be9df7e0",
   "metadata": {},
   "outputs": [
    {
     "data": {
      "text/latex": [
       "$\\displaystyle \\left[\\begin{array}{ccc|c}3.0&-0.1&-0.2&7.85\\\\0.1&7.0&-0.3&-19.3\\\\0.3&-0.2&10.0&71.4\\end{array}\\right]$"
      ],
      "text/plain": [
       "<IPython.core.display.Math object>"
      ]
     },
     "metadata": {},
     "output_type": "display_data"
    }
   ],
   "source": [
    "mat=np.hstack((A,b))\n",
    "mostrar_matrix(mat,aumentada=1)"
   ]
  },
  {
   "cell_type": "markdown",
   "id": "e7054c6c-b070-4262-b514-58347338a813",
   "metadata": {},
   "source": [
    "### 2. Proceso de Eliminación y Normalización\n",
    " El objetivo es transformar la parte izquierda de la matriz aumentada en la matriz identidad.\n",
    "\n",
    " **Paso 2.1:** Normalizar la primera fila (dividir por el pivote `A[0,0]`).\n"
   ]
  },
  {
   "cell_type": "code",
   "execution_count": 5,
   "id": "4ffc8216-b6f4-4be5-af3c-aa3034ffb777",
   "metadata": {},
   "outputs": [
    {
     "data": {
      "text/latex": [
       "$\\displaystyle \\left[\\begin{array}{ccc|c}1.0&-0.03333333333333333&-0.06666666666666667&2.6166666666666667\\\\0.1&7.0&-0.3&-19.3\\\\0.3&-0.2&10.0&71.4\\end{array}\\right]$"
      ],
      "text/plain": [
       "<IPython.core.display.Math object>"
      ]
     },
     "metadata": {},
     "output_type": "display_data"
    }
   ],
   "source": [
    "mat[0,:] /=mat[0,0]\n",
    "mostrar_matrix(mat,aumentada=1)"
   ]
  },
  {
   "cell_type": "markdown",
   "id": "c2d86aed-715c-416b-a65f-274e1c44550b",
   "metadata": {},
   "source": [
    "**Paso 2.2:** Eliminar los otros elementos de la primera columna."
   ]
  },
  {
   "cell_type": "code",
   "execution_count": 6,
   "id": "4b65cf55-4f7c-4ebf-81c6-fdf7e0e06284",
   "metadata": {},
   "outputs": [
    {
     "data": {
      "text/latex": [
       "$\\displaystyle \\left[\\begin{array}{ccc|c}1.0&-0.03333333333333333&-0.06666666666666667&2.6166666666666667\\\\0.0&7.003333333333333&-0.29333333333333333&-19.561666666666667\\\\0.0&-0.19&10.02&70.61500000000001\\end{array}\\right]$"
      ],
      "text/plain": [
       "<IPython.core.display.Math object>"
      ]
     },
     "metadata": {},
     "output_type": "display_data"
    }
   ],
   "source": [
    "mat[1:,:] -= mat[1:,[0]]*mat[[0],:] \n",
    "mostrar_matrix(mat,aumentada=1)"
   ]
  },
  {
   "cell_type": "markdown",
   "id": "b82af0a2-37e6-44da-9060-d1916b8be56c",
   "metadata": {},
   "source": [
    "**Paso 2.3:** Normalizar la segunda fila."
   ]
  },
  {
   "cell_type": "code",
   "execution_count": 7,
   "id": "b2a35fb4-582a-431e-baab-4301d73a6686",
   "metadata": {},
   "outputs": [
    {
     "data": {
      "text/latex": [
       "$\\displaystyle \\left[\\begin{array}{ccc|c}1.0&-0.03333333333333333&-0.06666666666666667&2.6166666666666667\\\\0.0&1.0&-0.041884816753926704&-2.793193717277487\\\\0.0&-0.19&10.02&70.61500000000001\\end{array}\\right]$"
      ],
      "text/plain": [
       "<IPython.core.display.Math object>"
      ]
     },
     "metadata": {},
     "output_type": "display_data"
    }
   ],
   "source": [
    "mat[1,:] /=mat[1,1]\n",
    "mostrar_matrix(mat,aumentada=1)"
   ]
  },
  {
   "cell_type": "markdown",
   "id": "60039396-cab9-4776-8def-1e20085741e6",
   "metadata": {},
   "source": [
    "**Paso 2.4:** Eliminar los otros elementos de la segunda columna (arriba y abajo)."
   ]
  },
  {
   "cell_type": "code",
   "execution_count": 8,
   "id": "3f483868-a1eb-419b-8e41-e3f357fe7c79",
   "metadata": {},
   "outputs": [
    {
     "data": {
      "text/latex": [
       "$\\displaystyle \\left[\\begin{array}{ccc|c}1.0&0.0&-0.06806282722513089&2.5235602094240837\\\\0.0&1.0&-0.041884816753926704&-2.793193717277487\\\\0.0&0.0&10.012041884816753&70.08429319371729\\end{array}\\right]$"
      ],
      "text/plain": [
       "<IPython.core.display.Math object>"
      ]
     },
     "metadata": {},
     "output_type": "display_data"
    }
   ],
   "source": [
    "mat[[0,2],:] -= mat[[0,2],1:2]*mat[1,:] \n",
    "mostrar_matrix(mat,aumentada=1)"
   ]
  },
  {
   "cell_type": "markdown",
   "id": "830879bb-c8cd-4f20-9322-b28b21a82420",
   "metadata": {},
   "source": [
    "**Paso 2.5:** Normalizar la tercera fila."
   ]
  },
  {
   "cell_type": "code",
   "execution_count": 9,
   "id": "75f8aeaf-aa58-451e-8b5a-05748d686a11",
   "metadata": {},
   "outputs": [
    {
     "data": {
      "text/latex": [
       "$\\displaystyle \\left[\\begin{array}{ccc|c}1.0&0.0&-0.06806282722513089&2.5235602094240837\\\\0.0&1.0&-0.041884816753926704&-2.793193717277487\\\\0.0&0.0&1.0&7.000000000000002\\end{array}\\right]$"
      ],
      "text/plain": [
       "<IPython.core.display.Math object>"
      ]
     },
     "metadata": {},
     "output_type": "display_data"
    }
   ],
   "source": [
    "mat[2,:] /=mat[2,2]\n",
    "mostrar_matrix(mat,aumentada=1)"
   ]
  },
  {
   "cell_type": "markdown",
   "id": "b0b8e3a3-0955-4cd5-b79c-c555183d640c",
   "metadata": {},
   "source": [
    "**Paso 2.6:** Eliminar los otros elementos de la tercera columna."
   ]
  },
  {
   "cell_type": "code",
   "execution_count": 10,
   "id": "16d55f22-bcbd-4c60-ac8c-cdcf2e739501",
   "metadata": {},
   "outputs": [
    {
     "data": {
      "text/latex": [
       "$\\displaystyle \\left[\\begin{array}{ccc|c}1.0&0.0&0.0&3.0\\\\0.0&1.0&0.0&-2.5\\\\0.0&0.0&1.0&7.000000000000002\\end{array}\\right]$"
      ],
      "text/plain": [
       "<IPython.core.display.Math object>"
      ]
     },
     "metadata": {},
     "output_type": "display_data"
    }
   ],
   "source": [
    "mat[0:2,:] -= mat[0:2,[2]]*mat[2,:] \n",
    "mostrar_matrix(mat,aumentada=1)"
   ]
  },
  {
   "cell_type": "markdown",
   "id": "541f36e0-8aa6-4b38-8ea6-8b7c080c92c2",
   "metadata": {},
   "source": [
    "La parte izquierda de la matriz es ahora la matriz identidad. La columna de la derecha contiene la solución del sistema: $x_1=3$, $x_2=-2.5$, $x_3=7$.\n",
    " \n",
    " ___\n",
    " ## Solución con la Biblioteca `mnspy`\n",
    " \n",
    " La clase `GaussJordan` de la biblioteca `mnspy` automatiza todo este proceso.\n"
   ]
  },
  {
   "cell_type": "code",
   "execution_count": 11,
   "id": "7f859a59-dd33-4d0f-8663-609271d4af8c",
   "metadata": {},
   "outputs": [],
   "source": [
    "# Creamos una instancia de la clase GaussJordan.\n",
    "gj = GaussJordan(A, b)"
   ]
  },
  {
   "cell_type": "code",
   "execution_count": 12,
   "id": "74a5a888-9815-435c-bf6e-1aeec285da00",
   "metadata": {},
   "outputs": [
    {
     "data": {
      "text/latex": [
       "$\\displaystyle \\left[\\begin{array}{ccc}3&-0.1&-0.2\\\\0.1&7&-0.3\\\\0.3&-0.2&10\\end{array}\\right]\\cdot\\left\\{\\begin{array}{c}x_{0}\\\\x_{1}\\\\x_{2}\\end{array}\\right\\}=\\left\\{\\begin{array}{c}7.85\\\\-19.3\\\\71.4\\end{array}\\right\\}$"
      ],
      "text/plain": [
       "<IPython.core.display.Math object>"
      ]
     },
     "metadata": {},
     "output_type": "display_data"
    }
   ],
   "source": [
    "# Mostramos el sistema de ecuaciones.\n",
    "gj.mostrar_sistema()"
   ]
  },
  {
   "cell_type": "code",
   "execution_count": 13,
   "id": "96f0f714-df58-4225-914b-e44d68bc964b",
   "metadata": {},
   "outputs": [
    {
     "data": {
      "text/latex": [
       "$\\displaystyle \\left[\\begin{array}{ccc|c}1.000&0.000&0.000&3.000\\\\0.000&1.000&0.000&-2.500\\\\0.000&0.000&1.000&7.000\\end{array}\\right]$"
      ],
      "text/plain": [
       "<IPython.core.display.Math object>"
      ]
     },
     "metadata": {},
     "output_type": "display_data"
    }
   ],
   "source": [
    "# Mostramos la matriz aumentada resultante.\n",
    "gj.mostrar_aumentada(3)"
   ]
  },
  {
   "cell_type": "code",
   "execution_count": 14,
   "id": "caded0e3-8433-4294-98d4-4f4e076b80a3",
   "metadata": {},
   "outputs": [
    {
     "data": {
      "text/html": [
       "<table>\n",
       "<thead>\n",
       "<tr><th>       </th><th style=\"text-align: right;\">  Solución</th></tr>\n",
       "</thead>\n",
       "<tbody>\n",
       "<tr><td>$x_{0}$</td><td style=\"text-align: right;\">       3  </td></tr>\n",
       "<tr><td>$x_{1}$</td><td style=\"text-align: right;\">      -2.5</td></tr>\n",
       "<tr><td>$x_{2}$</td><td style=\"text-align: right;\">       7  </td></tr>\n",
       "</tbody>\n",
       "</table>"
      ],
      "text/plain": [
       "'<table>\\n<thead>\\n<tr><th>       </th><th style=\"text-align: right;\">  Solución</th></tr>\\n</thead>\\n<tbody>\\n<tr><td>$x_{0}$</td><td style=\"text-align: right;\">       3  </td></tr>\\n<tr><td>$x_{1}$</td><td style=\"text-align: right;\">      -2.5</td></tr>\\n<tr><td>$x_{2}$</td><td style=\"text-align: right;\">       7  </td></tr>\\n</tbody>\\n</table>'"
      ]
     },
     "execution_count": 14,
     "metadata": {},
     "output_type": "execute_result"
    }
   ],
   "source": [
    "# Obtenemos la solución directamente. La biblioteca realiza todos los pasos anteriores internamente.\n",
    "gj.solucion()"
   ]
  }
 ],
 "metadata": {
  "kernelspec": {
   "display_name": "Python 3 (ipykernel)",
   "language": "python",
   "name": "python3"
  },
  "language_info": {
   "codemirror_mode": {
    "name": "ipython",
    "version": 3
   },
   "file_extension": ".py",
   "mimetype": "text/x-python",
   "name": "python",
   "nbconvert_exporter": "python",
   "pygments_lexer": "ipython3",
   "version": "3.10.12"
  }
 },
 "nbformat": 4,
 "nbformat_minor": 5
}
