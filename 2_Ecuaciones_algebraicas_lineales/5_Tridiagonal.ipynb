{
 "cells": [
  {
   "cell_type": "markdown",
   "id": "bf138338-e286-48e5-b319-454e83701570",
   "metadata": {},
   "source": [
    "# Algoritmo para Sistemas Tridiagonales (Algoritmo de Thomas)\n",
    "Un **sistema tridiagonal** es un tipo especial de sistema de ecuaciones lineales donde la matriz de coeficientes tiene elementos no nulos únicamente en la diagonal principal, la primera diagonal por debajo de esta (subdiagonal) y la primera diagonal por encima (superdiagonal).\n",
    " \n",
    " Estos sistemas aparecen con frecuencia en la solución de problemas de ingeniería y ciencias, como en diferencias finitas para resolver ecuaciones diferenciales (ej. conducción de calor, vibraciones).\n",
    " \n",
    " Debido a su estructura particular, se pueden resolver de manera muy eficiente utilizando el **Algoritmo de Thomas**, que es una forma simplificada de la eliminación de Gauss que evita operaciones con los numerosos ceros de la matriz, reduciendo significativamente el costo computacional.\n"
   ]
  },
  {
   "cell_type": "markdown",
   "id": "e5fc20ad-2b6c-4e3d-b406-ed6ec9f79abd",
   "metadata": {},
   "source": [
    "## Ejemplo: Problema de Conducción de Calor\n",
    " \n",
    " **Problema:**\n",
    " \n",
    " Resolver el sistema de ecuaciones que modela la distribución de temperatura en estado estacionario a lo largo de una barra delgada. La barra está dividida en 4 nodos interiores, y el sistema resultante tiene la siguiente forma tridiagonal.\n"
   ]
  },
  {
   "cell_type": "code",
   "execution_count": 1,
   "id": "58d3510b-2d38-4417-b7fe-aed6d8be31d7",
   "metadata": {},
   "outputs": [],
   "source": [
    "from mnspy import Tridiagonal, mostrar_matrix\n",
    "import numpy as np"
   ]
  },
  {
   "cell_type": "code",
   "execution_count": 2,
   "id": "52210fdd-f8b3-44e4-94d0-dfaeae55d01d",
   "metadata": {},
   "outputs": [],
   "source": [
    "# Definimos los vectores que componen la matriz tridiagonal y el vector de resultados.\n",
    "# e: subdiagonal (elementos por debajo de la diagonal principal)\n",
    "# f: diagonal principal\n",
    "# g: superdiagonal (elementos por encima de la diagonal principal)\n",
    "# r: vector de términos independientes\n",
    "n = 4\n",
    "e = np.zeros([n])\n",
    "f = np.zeros([n])\n",
    "g = np.zeros([n])\n",
    "for i in range(n):\n",
    "    f[i] = 2.04\n",
    "    if i < n - 1:\n",
    "        g[i] = -1\n",
    "    if i > 0:\n",
    "        e[i] = -1\n",
    "r = np.array((40.8, 0.8, 0.8, 200.8))"
   ]
  },
  {
   "cell_type": "markdown",
   "id": "3aa8f3fe-bb6f-4ab1-9bd7-a6b02fc4f84a",
   "metadata": {},
   "source": [
    "Vectores que definen el sistema:"
   ]
  },
  {
   "cell_type": "code",
   "execution_count": 3,
   "id": "3f026a1f-1a23-4462-ae15-91a9e97fe6ed",
   "metadata": {},
   "outputs": [
    {
     "name": "stdout",
     "output_type": "stream",
     "text": [
      "Subdiagonal (e):\n"
     ]
    },
    {
     "data": {
      "text/latex": [
       "$\\displaystyle \\left[\\begin{array}{cccc}0.0&-1.0&-1.0&-1.0\\end{array}\\right]$"
      ],
      "text/plain": [
       "<IPython.core.display.Math object>"
      ]
     },
     "metadata": {},
     "output_type": "display_data"
    }
   ],
   "source": [
    "print(\"Subdiagonal (e):\")\n",
    "mostrar_matrix(np.matrix(e))"
   ]
  },
  {
   "cell_type": "code",
   "execution_count": 4,
   "id": "0baab046-f66e-45b3-b564-43f68d1a1262",
   "metadata": {},
   "outputs": [
    {
     "name": "stdout",
     "output_type": "stream",
     "text": [
      "Diagonal principal (f):\n"
     ]
    },
    {
     "data": {
      "text/latex": [
       "$\\displaystyle \\left[\\begin{array}{cccc}2.04&2.04&2.04&2.04\\end{array}\\right]$"
      ],
      "text/plain": [
       "<IPython.core.display.Math object>"
      ]
     },
     "metadata": {},
     "output_type": "display_data"
    }
   ],
   "source": [
    "print(\"Diagonal principal (f):\")\n",
    "mostrar_matrix(np.matrix(f))"
   ]
  },
  {
   "cell_type": "code",
   "execution_count": 5,
   "id": "5a152044-5ba5-43d2-9dff-e9de2ea6127b",
   "metadata": {},
   "outputs": [
    {
     "name": "stdout",
     "output_type": "stream",
     "text": [
      "Superdiagonal (g):\n"
     ]
    },
    {
     "data": {
      "text/latex": [
       "$\\displaystyle \\left[\\begin{array}{cccc}-1.0&-1.0&-1.0&0.0\\end{array}\\right]$"
      ],
      "text/plain": [
       "<IPython.core.display.Math object>"
      ]
     },
     "metadata": {},
     "output_type": "display_data"
    }
   ],
   "source": [
    "print(\"Superdiagonal (g):\")\n",
    "mostrar_matrix(np.matrix(g))"
   ]
  },
  {
   "cell_type": "code",
   "execution_count": 6,
   "id": "4fe5044e-5799-4854-9538-df3e87f2038d",
   "metadata": {},
   "outputs": [
    {
     "name": "stdout",
     "output_type": "stream",
     "text": [
      "Matriz A ensamblada:\n"
     ]
    },
    {
     "data": {
      "text/latex": [
       "$\\displaystyle \\left[\\begin{array}{cccc}2.04&-1.0&0.0&0.0\\\\-1.0&2.04&-1.0&0.0\\\\0.0&-1.0&2.04&-1.0\\\\0.0&0.0&-1.0&2.04\\end{array}\\right]$"
      ],
      "text/plain": [
       "<IPython.core.display.Math object>"
      ]
     },
     "metadata": {},
     "output_type": "display_data"
    }
   ],
   "source": [
    "# Creamos una instancia de la clase `Tridiagonal`, que utiliza el algoritmo de Thomas para resolver el sistema.\n",
    "T = Tridiagonal(e, f, g, r)\n",
    "print(\"Matriz A ensamblada:\")\n",
    "T.mostrar_A()"
   ]
  },
  {
   "cell_type": "code",
   "execution_count": 7,
   "id": "6746b8a3-51d7-4e6c-93b5-16f6c3dfe0b4",
   "metadata": {},
   "outputs": [
    {
     "data": {
      "text/latex": [
       "$\\displaystyle \\left[\\begin{array}{cccc}2.04&-1&0&0\\\\-1&2.04&-1&0\\\\0&-1&2.04&-1\\\\0&0&-1&2.04\\end{array}\\right]\\cdot\\left\\{\\begin{array}{c}T_0\\\\T_1\\\\T_2\\\\T_3\\end{array}\\right\\}=\\left\\{\\begin{array}{c}40.8\\\\0.8\\\\0.8\\\\200.8\\end{array}\\right\\}$"
      ],
      "text/plain": [
       "<IPython.core.display.Math object>"
      ]
     },
     "metadata": {},
     "output_type": "display_data"
    }
   ],
   "source": [
    "# Ajustamos las etiquetas de las incógnitas para que representen las temperaturas y mostramos el sistema completo.\n",
    "T.ajustar_etiquetas(['T_0','T_1','T_2','T_3'])\n",
    "T.mostrar_sistema()"
   ]
  },
  {
   "cell_type": "code",
   "execution_count": 8,
   "id": "a68c82eb-dc69-4721-867f-16ba52608fd9",
   "metadata": {},
   "outputs": [
    {
     "name": "stdout",
     "output_type": "stream",
     "text": [
      "Solución (Temperaturas en grados Celsius):\n",
      " 65.97\n",
      " 93.78\n",
      "124.54\n",
      "159.48\n"
     ]
    }
   ],
   "source": [
    "print('Solución (Temperaturas en grados Celsius):')\n",
    "for i in range(4):\n",
    "    print('{0:6.2f}'.format(T.x[i,0]))"
   ]
  },
  {
   "cell_type": "code",
   "execution_count": 9,
   "id": "7b98fd68-2d5b-4c9c-8551-07f83f124088",
   "metadata": {},
   "outputs": [
    {
     "name": "stdout",
     "output_type": "stream",
     "text": [
      "Solución obtenida con el método .solucion():\n"
     ]
    },
    {
     "data": {
      "text/html": [
       "<table>\n",
       "<thead>\n",
       "<tr><th>     </th><th style=\"text-align: right;\">  Solución</th></tr>\n",
       "</thead>\n",
       "<tbody>\n",
       "<tr><td>$T_0$</td><td style=\"text-align: right;\">   65.9698</td></tr>\n",
       "<tr><td>$T_1$</td><td style=\"text-align: right;\">   93.7785</td></tr>\n",
       "<tr><td>$T_2$</td><td style=\"text-align: right;\">  124.538 </td></tr>\n",
       "<tr><td>$T_3$</td><td style=\"text-align: right;\">  159.48  </td></tr>\n",
       "</tbody>\n",
       "</table>"
      ],
      "text/plain": [
       "'<table>\\n<thead>\\n<tr><th>     </th><th style=\"text-align: right;\">  Solución</th></tr>\\n</thead>\\n<tbody>\\n<tr><td>$T_0$</td><td style=\"text-align: right;\">   65.9698</td></tr>\\n<tr><td>$T_1$</td><td style=\"text-align: right;\">   93.7785</td></tr>\\n<tr><td>$T_2$</td><td style=\"text-align: right;\">  124.538 </td></tr>\\n<tr><td>$T_3$</td><td style=\"text-align: right;\">  159.48  </td></tr>\\n</tbody>\\n</table>'"
      ]
     },
     "execution_count": 9,
     "metadata": {},
     "output_type": "execute_result"
    }
   ],
   "source": [
    "# También podemos obtener la solución directamente con el método solucion().\n",
    "print(\"Solución obtenida con el método .solucion():\")\n",
    "T.solucion()"
   ]
  }
 ],
 "metadata": {
  "kernelspec": {
   "display_name": "Python 3 (ipykernel)",
   "language": "python",
   "name": "python3"
  },
  "language_info": {
   "codemirror_mode": {
    "name": "ipython",
    "version": 3
   },
   "file_extension": ".py",
   "mimetype": "text/x-python",
   "name": "python",
   "nbconvert_exporter": "python",
   "pygments_lexer": "ipython3",
   "version": "3.10.12"
  }
 },
 "nbformat": 4,
 "nbformat_minor": 5
}
