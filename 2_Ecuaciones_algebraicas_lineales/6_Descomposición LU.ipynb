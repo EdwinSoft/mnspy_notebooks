{
 "cells": [
  {
   "cell_type": "markdown",
   "id": "ebfdfb74-8a99-440d-9313-a4fcc2c0a498",
   "metadata": {},
   "source": [
    "# Descomposición LU\n",
    "La **descomposición o factorización LU** es un método que descompone una matriz cuadrada `A` en el producto de dos matrices: una matriz triangular inferior `L` (Lower) y una matriz triangular superior `U` (Upper).\n",
    " \n",
    " $$ A = L \\cdot U $$\n",
    " \n",
    " Esta descomposición es muy útil porque, una vez obtenidas `L` y `U`, resolver el sistema `A * x = b` se vuelve muy eficiente, especialmente si se necesita resolver para múltiples vectores `b` con la misma matriz `A`.\n",
    " \n",
    " El proceso de solución se divide en dos pasos:\n",
    " 1.  **Sustitución hacia adelante:** Se resuelve `L * d = b` para encontrar un vector intermedio `d`.\n",
    " 2.  **Sustitución hacia atrás:** Se resuelve `U * x = d` para encontrar la solución final `x`.\n",
    " "
   ]
  },
  {
   "cell_type": "markdown",
   "id": "0ee1a47c-dcd9-4227-8c8a-809cd6581f2f",
   "metadata": {},
   "source": [
    "## Ejemplo 1: Solución de un Sistema de Ecuaciones\n",
    " \n",
    " **Problema:**\n",
    " \n",
    " Resolver el siguiente sistema de ecuaciones usando la descomposición LU:\n",
    " \n",
    " $$\n",
    " \\begin{align*}\n",
    " 3x_1 - 0.1x_2 - 0.2x_3 &= 7.85 \\\\\n",
    " 0.1x_1 + 7x_2 - 0.3x_3 &= -19.3 \\\\\n",
    " 0.3x_1 - 0.2x_2 + 10x_3 &= 71.4\n",
    " \\end{align*}\n",
    " $$"
   ]
  },
  {
   "cell_type": "code",
   "execution_count": 1,
   "id": "e8ead9a6-a849-47c3-9fe2-d7734ead7feb",
   "metadata": {},
   "outputs": [],
   "source": [
    "from mnspy import DescomposicionLU, mostrar_matrix\n",
    "import numpy as np "
   ]
  },
  {
   "cell_type": "code",
   "execution_count": 2,
   "id": "a53180e7-c1f9-4eab-9ed9-58c0c526b381",
   "metadata": {},
   "outputs": [
    {
     "name": "stdout",
     "output_type": "stream",
     "text": [
      "Matriz A:\n"
     ]
    },
    {
     "data": {
      "text/latex": [
       "$\\displaystyle \\left[\\begin{array}{ccc}3.0&-0.1&-0.2\\\\0.1&7.0&-0.3\\\\0.3&-0.2&10.0\\end{array}\\right]$"
      ],
      "text/plain": [
       "<IPython.core.display.Math object>"
      ]
     },
     "metadata": {},
     "output_type": "display_data"
    }
   ],
   "source": [
    "# Primero, definimos la matriz de coeficientes A.\n",
    "A = np.array([[3, -0.1, -0.2],[0.1, 7, -0.3],[0.3, -0.2, 10]])\n",
    "print(\"Matriz A:\")\n",
    "mostrar_matrix(A)"
   ]
  },
  {
   "cell_type": "code",
   "execution_count": 3,
   "id": "83d7c909-6845-4e6f-a6f6-c5b8a6017261",
   "metadata": {},
   "outputs": [],
   "source": [
    "# Creamos una instancia de la clase `DescomposicionLU` que realiza la factorización.\n",
    "lu = DescomposicionLU(A)"
   ]
  },
  {
   "cell_type": "code",
   "execution_count": 4,
   "id": "355baab3-716a-453f-afe1-2d166f595a11",
   "metadata": {},
   "outputs": [
    {
     "name": "stdout",
     "output_type": "stream",
     "text": [
      "Matriz U:\n"
     ]
    },
    {
     "data": {
      "text/latex": [
       "$\\displaystyle \\left[\\begin{array}{ccc}3.0&-0.1&-0.2\\\\0.0&7.003333333333333&-0.29333333333333333\\\\0.0&0.0&10.012041884816753\\end{array}\\right]$"
      ],
      "text/plain": [
       "<IPython.core.display.Math object>"
      ]
     },
     "metadata": {},
     "output_type": "display_data"
    }
   ],
   "source": [
    "# Mostramos la matriz triangular superior U.\n",
    "print(\"Matriz U:\")\n",
    "mostrar_matrix(lu.retornar_u())"
   ]
  },
  {
   "cell_type": "code",
   "execution_count": 5,
   "id": "73b5c156-439b-48de-b316-f614baf9e50e",
   "metadata": {},
   "outputs": [
    {
     "name": "stdout",
     "output_type": "stream",
     "text": [
      "Matriz L:\n"
     ]
    },
    {
     "data": {
      "text/latex": [
       "$\\displaystyle \\left[\\begin{array}{ccc}1.0&0.0&0.0\\\\0.03333333333333333&1.0&0.0\\\\0.09999999999999999&-0.027129938124702525&1.0\\end{array}\\right]$"
      ],
      "text/plain": [
       "<IPython.core.display.Math object>"
      ]
     },
     "metadata": {},
     "output_type": "display_data"
    }
   ],
   "source": [
    "# Mostramos la matriz triangular inferior L.\n",
    "print(\"Matriz L:\")\n",
    "mostrar_matrix(lu.retornar_l())"
   ]
  },
  {
   "cell_type": "code",
   "execution_count": 6,
   "id": "e019170d-9c3d-4288-9968-d3fb6242a467",
   "metadata": {},
   "outputs": [
    {
     "name": "stdout",
     "output_type": "stream",
     "text": [
      "Verificación L @ U:\n"
     ]
    },
    {
     "data": {
      "text/latex": [
       "$\\displaystyle \\left[\\begin{array}{ccc}3.0&-0.1&-0.2\\\\0.1&7.0&-0.3\\\\0.3&-0.2&10.0\\end{array}\\right]$"
      ],
      "text/plain": [
       "<IPython.core.display.Math object>"
      ]
     },
     "metadata": {},
     "output_type": "display_data"
    }
   ],
   "source": [
    "#  Verificamos que el producto de L y U nos da la matriz original A.\n",
    "print(\"Verificación L @ U:\")\n",
    "mostrar_matrix(lu.retornar_l() @ lu.retornar_u())"
   ]
  },
  {
   "cell_type": "code",
   "execution_count": 7,
   "id": "0531de42-1b98-4b32-bf7a-f0c4a514596c",
   "metadata": {},
   "outputs": [
    {
     "name": "stdout",
     "output_type": "stream",
     "text": [
      "Vector b:\n"
     ]
    },
    {
     "data": {
      "text/latex": [
       "$\\displaystyle \\left[\\begin{array}{c}7.85\\\\-19.3\\\\71.4\\end{array}\\right]$"
      ],
      "text/plain": [
       "<IPython.core.display.Math object>"
      ]
     },
     "metadata": {},
     "output_type": "display_data"
    }
   ],
   "source": [
    "# Ahora, definimos el vector de términos independientes b.\n",
    "b = np.array([[7.85], [-19.3], [71.4]])\n",
    "print(\"Vector b:\")\n",
    "mostrar_matrix(b)"
   ]
  },
  {
   "cell_type": "markdown",
   "id": "1c1a8f3f-73d0-4b1b-a291-099d0096b058",
   "metadata": {},
   "source": [
    "El método `sustituir` realiza la sustitución hacia adelante (Ld = b) y hacia atrás (Ux = d) para encontrar la solución."
   ]
  },
  {
   "cell_type": "code",
   "execution_count": 8,
   "id": "c81c5828-f675-4562-a668-712d8d2663d3",
   "metadata": {},
   "outputs": [],
   "source": [
    "lu.sustituir(b)"
   ]
  },
  {
   "cell_type": "code",
   "execution_count": 9,
   "id": "d015441d-7fb9-4045-a7fc-88875e6b681a",
   "metadata": {},
   "outputs": [
    {
     "name": "stdout",
     "output_type": "stream",
     "text": [
      "Solución x:\n"
     ]
    },
    {
     "data": {
      "text/html": [
       "<table>\n",
       "<thead>\n",
       "<tr><th>       </th><th style=\"text-align: right;\">  Solución</th></tr>\n",
       "</thead>\n",
       "<tbody>\n",
       "<tr><td>$x_{0}$</td><td style=\"text-align: right;\">       3  </td></tr>\n",
       "<tr><td>$x_{1}$</td><td style=\"text-align: right;\">      -2.5</td></tr>\n",
       "<tr><td>$x_{2}$</td><td style=\"text-align: right;\">       7  </td></tr>\n",
       "</tbody>\n",
       "</table>"
      ],
      "text/plain": [
       "'<table>\\n<thead>\\n<tr><th>       </th><th style=\"text-align: right;\">  Solución</th></tr>\\n</thead>\\n<tbody>\\n<tr><td>$x_{0}$</td><td style=\"text-align: right;\">       3  </td></tr>\\n<tr><td>$x_{1}$</td><td style=\"text-align: right;\">      -2.5</td></tr>\\n<tr><td>$x_{2}$</td><td style=\"text-align: right;\">       7  </td></tr>\\n</tbody>\\n</table>'"
      ]
     },
     "execution_count": 9,
     "metadata": {},
     "output_type": "execute_result"
    }
   ],
   "source": [
    "# Obtenemos la solución final del sistema.\n",
    "print(\"Solución x:\")\n",
    "lu.solucion()"
   ]
  },
  {
   "cell_type": "markdown",
   "id": "2705da58-0b0a-4d45-9a34-ce44b2b41a62",
   "metadata": {},
   "source": [
    "___\n",
    "## Ejemplo 2: Inversa de una Matriz\n",
    "\n",
    "La descomposición LU también es un método eficiente para calcular la inversa de una matriz. Encontrar la inversa `A⁻¹` es equivalente a resolver el sistema `A * X = I`, donde `I` es la matriz identidad y `X` es la matriz inversa que buscamos.\n",
    "\n",
    "Esto se puede resolver columna por columna. Para cada columna `j` de la matriz identidad, resolvemos `A * x_j = i_j` para encontrar la columna `j` de la matriz inversa."
   ]
  },
  {
   "cell_type": "code",
   "execution_count": 10,
   "id": "02fccecd-c741-4d1e-b0a3-31be16f69e51",
   "metadata": {},
   "outputs": [
    {
     "data": {
      "text/latex": [
       "$\\displaystyle \\left[\\begin{array}{ccc}3.0&-0.1&-0.2\\\\0.1&7.0&-0.3\\\\0.3&-0.2&10.0\\end{array}\\right]$"
      ],
      "text/plain": [
       "<IPython.core.display.Math object>"
      ]
     },
     "metadata": {},
     "output_type": "display_data"
    }
   ],
   "source": [
    "mostrar_matrix(A)"
   ]
  },
  {
   "cell_type": "code",
   "execution_count": 11,
   "id": "ce7e15a7-948b-4896-a856-0e8de663c019",
   "metadata": {},
   "outputs": [
    {
     "name": "stdout",
     "output_type": "stream",
     "text": [
      "Primera columna:\n"
     ]
    },
    {
     "data": {
      "text/latex": [
       "$\\displaystyle \\left[\\begin{array}{c}0.33248872133984303\\\\-0.005181765888767928\\\\-0.01007829695797065\\end{array}\\right]$"
      ],
      "text/plain": [
       "<IPython.core.display.Math object>"
      ]
     },
     "metadata": {},
     "output_type": "display_data"
    }
   ],
   "source": [
    "# Ahora, la calcularemos usando nuestra descomposición LU.\n",
    "# Primero, resolvemos para la primera columna de la identidad.\n",
    "b=np.matrix('1;0;0')\n",
    "b = np.array([[1],[0],[0]])\n",
    "lu.sustituir(b)\n",
    "c_1=lu.x\n",
    "print(\"Primera columna:\")\n",
    "mostrar_matrix(c_1)"
   ]
  },
  {
   "cell_type": "code",
   "execution_count": 12,
   "id": "808c0a9c-2c8a-46cf-8e2a-6983717db7c5",
   "metadata": {},
   "outputs": [
    {
     "name": "stdout",
     "output_type": "stream",
     "text": [
      "Segunda columna:\n"
     ]
    },
    {
     "data": {
      "text/latex": [
       "$\\displaystyle \\left[\\begin{array}{c}0.004944070205796922\\\\0.14290264460216873\\\\0.0027097307858694676\\end{array}\\right]$"
      ],
      "text/plain": [
       "<IPython.core.display.Math object>"
      ]
     },
     "metadata": {},
     "output_type": "display_data"
    }
   ],
   "source": [
    "# Resolvemos para la segunda columna de la identidad.\n",
    "b=np.matrix('0;1;0')\n",
    "b = np.array([[0],[1],[0]])\n",
    "lu.sustituir(b)\n",
    "c_2=lu.x\n",
    "print(\"Segunda columna:\")\n",
    "mostrar_matrix(c_2)"
   ]
  },
  {
   "cell_type": "code",
   "execution_count": 13,
   "id": "4ca6a183-f428-4656-8f15-822afe7094f3",
   "metadata": {},
   "outputs": [
    {
     "name": "stdout",
     "output_type": "stream",
     "text": [
      "Tercera columna:\n"
     ]
    },
    {
     "data": {
      "text/latex": [
       "$\\displaystyle \\left[\\begin{array}{c}0.006798096532970769\\\\0.004183444020289704\\\\0.09987972598441668\\end{array}\\right]$"
      ],
      "text/plain": [
       "<IPython.core.display.Math object>"
      ]
     },
     "metadata": {},
     "output_type": "display_data"
    }
   ],
   "source": [
    "# Resolvemos para la tercera columna de la identidad.\n",
    "b=np.matrix('0;0;1')\n",
    "b = np.array([[0],[0],[1]])\n",
    "lu.sustituir(b)\n",
    "c_3=lu.x\n",
    "print(\"Tercera columna:\")\n",
    "mostrar_matrix(c_3)"
   ]
  },
  {
   "cell_type": "code",
   "execution_count": 14,
   "id": "3244427e-5037-4188-9ddb-3f20f763bb7f",
   "metadata": {},
   "outputs": [
    {
     "name": "stdout",
     "output_type": "stream",
     "text": [
      "Inversa calculada con Descomposición LU:\n"
     ]
    },
    {
     "data": {
      "text/latex": [
       "$\\displaystyle \\left[\\begin{array}{ccc}0.33248872133984303&0.004944070205796922&0.006798096532970769\\\\-0.005181765888767928&0.14290264460216873&0.004183444020289704\\\\-0.01007829695797065&0.0027097307858694676&0.09987972598441668\\end{array}\\right]$"
      ],
      "text/plain": [
       "<IPython.core.display.Math object>"
      ]
     },
     "metadata": {},
     "output_type": "display_data"
    }
   ],
   "source": [
    "# Unimos las tres columnas solución para formar la matriz inversa.\n",
    "inversa = np.hstack((c_1,c_2,c_3))\n",
    "print(\"Inversa calculada con Descomposición LU:\")\n",
    "mostrar_matrix(inversa)"
   ]
  },
  {
   "cell_type": "code",
   "execution_count": 15,
   "id": "aebe8ffd-021b-4dce-b08e-b237cd47f28d",
   "metadata": {},
   "outputs": [
    {
     "name": "stdout",
     "output_type": "stream",
     "text": [
      "Inversa calculada con np.linalg.inv(A):\n"
     ]
    },
    {
     "data": {
      "text/latex": [
       "$\\displaystyle \\left[\\begin{array}{ccc}0.33248872133984303&0.004944070205796922&0.006798096532970769\\\\-0.005181765888767928&0.14290264460216873&0.004183444020289704\\\\-0.010078296957970648&0.0027097307858694676&0.09987972598441668\\end{array}\\right]$"
      ],
      "text/plain": [
       "<IPython.core.display.Math object>"
      ]
     },
     "metadata": {},
     "output_type": "display_data"
    }
   ],
   "source": [
    "# La función de numpy `inv` nos da la inversa directamente para comparar nuestros resultados.\n",
    "print(\"Inversa calculada con np.linalg.inv(A):\")\n",
    "mostrar_matrix(np.linalg.inv(A))"
   ]
  }
 ],
 "metadata": {
  "kernelspec": {
   "display_name": "Python 3 (ipykernel)",
   "language": "python",
   "name": "python3"
  },
  "language_info": {
   "codemirror_mode": {
    "name": "ipython",
    "version": 3
   },
   "file_extension": ".py",
   "mimetype": "text/x-python",
   "name": "python",
   "nbconvert_exporter": "python",
   "pygments_lexer": "ipython3",
   "version": "3.10.12"
  }
 },
 "nbformat": 4,
 "nbformat_minor": 5
}
