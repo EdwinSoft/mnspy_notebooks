{
 "cells": [
  {
   "cell_type": "markdown",
   "id": "d89b3df4-570d-490a-9db9-bb3f175d9615",
   "metadata": {},
   "source": [
    "# Método de Eliminación de Gauss\n",
    "La **eliminación de Gauss** es el método fundamental para resolver sistemas de ecuaciones lineales. Es mucho más eficiente que la regla de Cramer, especialmente para sistemas grandes.\n",
    " \n",
    " El procedimiento se divide en dos fases:\n",
    " 1.  **Eliminación hacia adelante:** Se manipula el sistema para transformar la matriz de coeficientes `A` en una matriz triangular superior. Esto se logra creando ceros debajo de la diagonal principal.\n",
    " 2.  **Sustitución hacia atrás:** Una vez que el sistema está en forma triangular superior, se resuelve fácilmente para las incógnitas, comenzando desde la última ecuación y subiendo hasta la primera.\n"
   ]
  },
  {
   "cell_type": "markdown",
   "id": "9ff7bef7-e481-4b02-8e5f-95d97f060786",
   "metadata": {},
   "source": [
    "## Ejemplo: Sistema 3x3\n",
    " \n",
    " **Problema:**\n",
    " \n",
    " Resolver el siguiente sistema de ecuaciones usando la eliminación de Gauss:\n",
    " \n",
    " $$\n",
    " \\begin{align*}\n",
    " 3x_1 - 0.1x_2 - 0.2x_3 &= 7.85 \\\\\n",
    " 0.1x_1 + 7x_2 - 0.3x_3 &= -19.3 \\\\\n",
    " 0.3x_1 - 0.2x_2 + 10x_3 &= 71.4\n",
    " \\end{align*}\n",
    " $$"
   ]
  },
  {
   "cell_type": "code",
   "execution_count": 1,
   "id": "f126a2a6-8b04-4c19-899e-39acec4a2c51",
   "metadata": {},
   "outputs": [],
   "source": [
    "from mnspy import Gauss, mostrar_matrix\n",
    "import numpy as np"
   ]
  },
  {
   "cell_type": "code",
   "execution_count": 2,
   "id": "3ffb4068-9c8a-40c1-9546-ced431bad7f6",
   "metadata": {},
   "outputs": [
    {
     "name": "stdout",
     "output_type": "stream",
     "text": [
      "Matriz A:\n"
     ]
    },
    {
     "data": {
      "text/latex": [
       "$\\displaystyle \\left[\\begin{array}{ccc}3.0&-0.1&-0.2\\\\0.1&7.0&-0.3\\\\0.3&-0.2&10.0\\end{array}\\right]$"
      ],
      "text/plain": [
       "<IPython.core.display.Math object>"
      ]
     },
     "metadata": {},
     "output_type": "display_data"
    }
   ],
   "source": [
    "# Primero, definimos la matriz de coeficientes A y el vector de términos independientes b.\n",
    "A = np.array([[3, -0.1, -0.2],[0.1, 7, -0.3],[0.3, -0.2, 10]])\n",
    "print(\"Matriz A:\")\n",
    "mostrar_matrix(A)"
   ]
  },
  {
   "cell_type": "code",
   "execution_count": 3,
   "id": "d82360d1-703d-4729-8648-211299bbff93",
   "metadata": {},
   "outputs": [
    {
     "name": "stdout",
     "output_type": "stream",
     "text": [
      "Vector b:\n"
     ]
    },
    {
     "data": {
      "text/latex": [
       "$\\displaystyle \\left[\\begin{array}{c}7.85\\\\-19.3\\\\71.4\\end{array}\\right]$"
      ],
      "text/plain": [
       "<IPython.core.display.Math object>"
      ]
     },
     "metadata": {},
     "output_type": "display_data"
    }
   ],
   "source": [
    "b = np.array([[7.85], [-19.3], [71.4]])\n",
    "print(\"Vector b:\")\n",
    "mostrar_matrix(b)"
   ]
  },
  {
   "cell_type": "markdown",
   "id": "85502da6-bbd6-4cca-b2ce-7b336bb539f4",
   "metadata": {},
   "source": [
    "___\n",
    "## Solución Manual Paso a Paso\n",
    "A continuación, se muestra la lógica del algoritmo de Gauss de forma manual para entender su funcionamiento.\n",
    "### 1. Matriz Aumentada\n",
    " El primer paso es combinar la matriz `A` y el vector `b` en una única matriz, llamada matriz aumentada.\n"
   ]
  },
  {
   "cell_type": "code",
   "execution_count": 4,
   "id": "b6fd1b3b-2f3c-44ce-b1fe-a33be67923aa",
   "metadata": {},
   "outputs": [
    {
     "data": {
      "text/latex": [
       "$\\displaystyle \\left[\\begin{array}{ccc|c}3.0&-0.1&-0.2&7.85\\\\0.1&7.0&-0.3&-19.3\\\\0.3&-0.2&10.0&71.4\\end{array}\\right]$"
      ],
      "text/plain": [
       "<IPython.core.display.Math object>"
      ]
     },
     "metadata": {},
     "output_type": "display_data"
    }
   ],
   "source": [
    "mat=np.hstack((A,b))\n",
    "mostrar_matrix(mat,aumentada=1)"
   ]
  },
  {
   "cell_type": "markdown",
   "id": "e9a3eadf-5ef6-4447-9f05-e7906e18b20e",
   "metadata": {},
   "source": [
    "### 2. Eliminación hacia Adelante\n",
    "El objetivo es crear ceros debajo de la diagonal principal."
   ]
  },
  {
   "cell_type": "code",
   "execution_count": 5,
   "id": "b19b7605-925c-464c-959b-d5edfc3dcc7b",
   "metadata": {},
   "outputs": [
    {
     "data": {
      "text/latex": [
       "$\\displaystyle \\left[\\begin{array}{ccc|c}3.000000&-0.100000&-0.200000&7.850000\\\\-0.000000&7.003333&-0.293333&-19.561667\\\\0.000000&-0.190000&10.020000&70.615000\\end{array}\\right]$"
      ],
      "text/plain": [
       "<IPython.core.display.Math object>"
      ]
     },
     "metadata": {},
     "output_type": "display_data"
    }
   ],
   "source": [
    "# Se elimina el primer elemento de la segunda y tercera fila.\n",
    "mat[1:,:] -= mat[1:,[0]] * mat[[0],:]/mat[0,0]\n",
    "mostrar_matrix(mat,6,aumentada=1)"
   ]
  },
  {
   "cell_type": "code",
   "execution_count": 6,
   "id": "02253c8d-306d-43cd-be68-67a3612ea8c7",
   "metadata": {},
   "outputs": [
    {
     "data": {
      "text/latex": [
       "$\\displaystyle \\left[\\begin{array}{ccc|c}3.000000&-0.100000&-0.200000&7.850000\\\\-0.000000&7.003333&-0.293333&-19.561667\\\\-0.000000&0.000000&10.012042&70.084293\\end{array}\\right]$"
      ],
      "text/plain": [
       "<IPython.core.display.Math object>"
      ]
     },
     "metadata": {},
     "output_type": "display_data"
    }
   ],
   "source": [
    "# Se elimina el segundo elemento de la tercera fila.\n",
    "mat[[2],:] -= mat[2,1]*mat[[1],:]/mat[1,1]\n",
    "mostrar_matrix(mat,6,aumentada=1)"
   ]
  },
  {
   "cell_type": "markdown",
   "id": "95d21940-8cd4-4175-bca6-26005bff6ab6",
   "metadata": {},
   "source": [
    "La matriz ya es triangular superior. Ahora podemos proceder con la sustitución hacia atrás.\n",
    "### 3. Sustitución hacia Atrás\n",
    "Se despejan las incógnitas comenzando por la última."
   ]
  },
  {
   "cell_type": "code",
   "execution_count": 7,
   "id": "88fc721f-8e13-414d-8b16-d307437c6b80",
   "metadata": {},
   "outputs": [
    {
     "data": {
      "image/png": "[encoded data removed]",
      "text/latex": [
       "$\\displaystyle 7.0$"
      ],
      "text/plain": [
       "np.float64(7.000000000000002)"
      ]
     },
     "execution_count": 7,
     "metadata": {},
     "output_type": "execute_result"
    }
   ],
   "source": [
    "# De la última fila, despejamos x_2:\n",
    "x_2=mat[2,3]/mat[2,2]\n",
    "x_2"
   ]
  },
  {
   "cell_type": "code",
   "execution_count": 8,
   "id": "78203612-d3b3-44b4-a1f9-4f8fddaa8b2a",
   "metadata": {},
   "outputs": [
    {
     "data": {
      "image/png": "[encoded data removed]",
      "text/latex": [
       "$\\displaystyle -2.5$"
      ],
      "text/plain": [
       "np.float64(-2.5)"
      ]
     },
     "execution_count": 8,
     "metadata": {},
     "output_type": "execute_result"
    }
   ],
   "source": [
    "# De la segunda fila, despejamos x_1:\n",
    "x_1=(mat[1,3]-mat[1,2]*x_2)/mat[1,1]\n",
    "x_1"
   ]
  },
  {
   "cell_type": "code",
   "execution_count": 9,
   "id": "11eec561-b6db-44be-8c91-019b7a153a60",
   "metadata": {},
   "outputs": [
    {
     "data": {
      "image/png": "[encoded data removed]",
      "text/latex": [
       "$\\displaystyle 3.0$"
      ],
      "text/plain": [
       "np.float64(3.0)"
      ]
     },
     "execution_count": 9,
     "metadata": {},
     "output_type": "execute_result"
    }
   ],
   "source": [
    "# De la primera fila, despejamos x_0:\n",
    "x_0=(mat[0,3]-mat[0,1]*x_1-mat[0,2]*x_2)/mat[0,0]\n",
    "x_0"
   ]
  },
  {
   "cell_type": "markdown",
   "id": "db72aaa4-0568-4562-90d7-3c458f1b59cc",
   "metadata": {},
   "source": [
    "___\n",
    "## Solución con la Biblioteca `mnspy`\n",
    "La clase `Gauss` de la biblioteca `mnspy` automatiza todo este proceso."
   ]
  },
  {
   "cell_type": "code",
   "execution_count": 10,
   "id": "6eb98b50-5180-482c-923b-fdc1a14abb15",
   "metadata": {},
   "outputs": [],
   "source": [
    "# Creamos una instancia de la clase Gauss.\n",
    "g = Gauss(A, b, pivote_parcial=False)"
   ]
  },
  {
   "cell_type": "code",
   "execution_count": 11,
   "id": "d0d73170-5e0a-4c91-b28a-d2721a011a75",
   "metadata": {},
   "outputs": [
    {
     "data": {
      "text/latex": [
       "$\\displaystyle \\left[\\begin{array}{ccc}3&-0.1&-0.2\\\\0.1&7&-0.3\\\\0.3&-0.2&10\\end{array}\\right]\\cdot\\left\\{\\begin{array}{c}x_{0}\\\\x_{1}\\\\x_{2}\\end{array}\\right\\}=\\left\\{\\begin{array}{c}7.85\\\\-19.3\\\\71.4\\end{array}\\right\\}$"
      ],
      "text/plain": [
       "<IPython.core.display.Math object>"
      ]
     },
     "metadata": {},
     "output_type": "display_data"
    }
   ],
   "source": [
    "# Podemos visualizar el sistema original.\n",
    "g.mostrar_sistema()"
   ]
  },
  {
   "cell_type": "code",
   "execution_count": 12,
   "id": "af252e5b-1210-4b0b-8bf4-9ea88b4ccf2e",
   "metadata": {},
   "outputs": [
    {
     "data": {
      "text/latex": [
       "$\\displaystyle \\left[\\begin{array}{ccc|c}3.0&-0.1&-0.2&7.85\\\\0.0&7.003333333333333&-0.29333333333333333&-19.561666666666667\\\\0.0&0.0&10.012041884816753&70.08429319371729\\end{array}\\right]$"
      ],
      "text/plain": [
       "<IPython.core.display.Math object>"
      ]
     },
     "metadata": {},
     "output_type": "display_data"
    }
   ],
   "source": [
    "# la matriz aumentada inicial.\n",
    "g.mostrar_aumentada()"
   ]
  },
  {
   "cell_type": "code",
   "execution_count": 13,
   "id": "2ac21c18-989b-406f-b3a3-5ec357bea956",
   "metadata": {},
   "outputs": [
    {
     "data": {
      "text/html": [
       "<table>\n",
       "<thead>\n",
       "<tr><th>       </th><th style=\"text-align: right;\">  Solución</th></tr>\n",
       "</thead>\n",
       "<tbody>\n",
       "<tr><td>$x_{0}$</td><td style=\"text-align: right;\">       3  </td></tr>\n",
       "<tr><td>$x_{1}$</td><td style=\"text-align: right;\">      -2.5</td></tr>\n",
       "<tr><td>$x_{2}$</td><td style=\"text-align: right;\">       7  </td></tr>\n",
       "</tbody>\n",
       "</table>"
      ],
      "text/plain": [
       "'<table>\\n<thead>\\n<tr><th>       </th><th style=\"text-align: right;\">  Solución</th></tr>\\n</thead>\\n<tbody>\\n<tr><td>$x_{0}$</td><td style=\"text-align: right;\">       3  </td></tr>\\n<tr><td>$x_{1}$</td><td style=\"text-align: right;\">      -2.5</td></tr>\\n<tr><td>$x_{2}$</td><td style=\"text-align: right;\">       7  </td></tr>\\n</tbody>\\n</table>'"
      ]
     },
     "execution_count": 13,
     "metadata": {},
     "output_type": "execute_result"
    }
   ],
   "source": [
    "# Finalmente, obtenemos la solución directamente.\n",
    "g.solucion()"
   ]
  }
 ],
 "metadata": {
  "kernelspec": {
   "display_name": "Python 3 (ipykernel)",
   "language": "python",
   "name": "python3"
  },
  "language_info": {
   "codemirror_mode": {
    "name": "ipython",
    "version": 3
   },
   "file_extension": ".py",
   "mimetype": "text/x-python",
   "name": "python",
   "nbconvert_exporter": "python",
   "pygments_lexer": "ipython3",
   "version": "3.10.12"
  }
 },
 "nbformat": 4,
 "nbformat_minor": 5
}
