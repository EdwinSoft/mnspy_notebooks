{
 "cells": [
  {
   "cell_type": "markdown",
   "id": "63c1a2fa-e44a-451c-9f3f-bd6d522f4fd8",
   "metadata": {},
   "source": [
    "# Método de Cramer\n",
    "La **regla de Cramer** es un teorema del álgebra lineal que da la solución de un sistema de ecuaciones lineales en términos de determinantes. Es un método directo para resolver sistemas, pero solo es aplicable a sistemas que tienen el mismo número de ecuaciones que de incógnitas (sistemas cuadrados) y cuyo determinante de la matriz de coeficientes es no nulo.\n",
    " \n",
    " Para un sistema $A \\cdot x = b$, la solución para cada incógnita $x_i$ se encuentra mediante la fórmula:\n",
    " \n",
    " $$ x_i = \\frac{\\det(A_i)}{\\det(A)} $$\n",
    " \n",
    " donde:\n",
    " -   $\\det(A)$ es el determinante de la matriz de coeficientes $A$.\n",
    " -   $\\det(A_i)$ es el determinante de la matriz que se forma al reemplazar la $i$-ésima columna de $A$ por el vector de términos independientes $b$.\n",
    " \n",
    " Aunque es teóricamente importante, la regla de Cramer es computacionalmente muy costosa para sistemas grandes en comparación con métodos como la eliminación de Gauss.\n"
   ]
  },
  {
   "cell_type": "markdown",
   "id": "300436fd-0004-4795-86f0-6ac98bd542d5",
   "metadata": {},
   "source": [
    "## Ejemplo: Sistema 3x3\n",
    " \n",
    " **Problema:**\n",
    " \n",
    " Resolver el siguiente sistema de ecuaciones usando la regla de Cramer:\n",
    " \\begin{align*}\n",
    " 3x_1 - 0.1x_2 - 0.2x_3 &= 7.85 \\\\\n",
    " 0.1x_1 + 7x_2 - 0.3x_3 &= -19.3 \\\\\n",
    " 0.3x_1 - 0.2x_2 + 10x_3 &= 71.4\n",
    " \\end{align*}\n"
   ]
  },
  {
   "cell_type": "code",
   "execution_count": 1,
   "id": "7cc52ecf-6aa2-4888-95ba-22ccee477bbb",
   "metadata": {},
   "outputs": [],
   "source": [
    "from mnspy import Cramer, mostrar_matrix\n",
    "import numpy as np"
   ]
  },
  {
   "cell_type": "code",
   "execution_count": 2,
   "id": "af434f39-7f93-47a3-bcad-ad5a4796a8f8",
   "metadata": {},
   "outputs": [
    {
     "name": "stdout",
     "output_type": "stream",
     "text": [
      "Matriz A:\n"
     ]
    },
    {
     "data": {
      "text/latex": [
       "$\\displaystyle \\left[\\begin{array}{ccc}3.0&-0.1&-0.2\\\\0.1&7.0&-0.3\\\\0.3&-0.2&10.0\\end{array}\\right]$"
      ],
      "text/plain": [
       "<IPython.core.display.Math object>"
      ]
     },
     "metadata": {},
     "output_type": "display_data"
    }
   ],
   "source": [
    "# Primero, definimos la matriz de coeficientes A y el vector de términos independientes b.\n",
    "A = np.array([[3, -0.1, -0.2],[0.1, 7, -0.3],[0.3, -0.2, 10]])\n",
    "print(\"Matriz A:\")\n",
    "mostrar_matrix(A)"
   ]
  },
  {
   "cell_type": "code",
   "execution_count": 3,
   "id": "6872f656-d28f-40ac-8085-f9fe4d30d8a3",
   "metadata": {},
   "outputs": [
    {
     "name": "stdout",
     "output_type": "stream",
     "text": [
      "Vector b:\n"
     ]
    },
    {
     "data": {
      "text/latex": [
       "$\\displaystyle \\left[\\begin{array}{c}7.85\\\\-19.3\\\\71.4\\end{array}\\right]$"
      ],
      "text/plain": [
       "<IPython.core.display.Math object>"
      ]
     },
     "metadata": {},
     "output_type": "display_data"
    }
   ],
   "source": [
    "b = np.array([[7.85], [-19.3], [71.4]])\n",
    "print(\"Vector b:\")\n",
    "mostrar_matrix(b)"
   ]
  },
  {
   "cell_type": "code",
   "execution_count": 4,
   "id": "bb904368-f8f8-4845-9d19-6474bb49203b",
   "metadata": {},
   "outputs": [
    {
     "data": {
      "text/html": [
       "<table>\n",
       "<thead>\n",
       "<tr><th>       </th><th style=\"text-align: right;\">  Solución</th></tr>\n",
       "</thead>\n",
       "<tbody>\n",
       "<tr><td>$x_{0}$</td><td style=\"text-align: right;\">       3  </td></tr>\n",
       "<tr><td>$x_{1}$</td><td style=\"text-align: right;\">      -2.5</td></tr>\n",
       "<tr><td>$x_{2}$</td><td style=\"text-align: right;\">       7  </td></tr>\n",
       "</tbody>\n",
       "</table>"
      ],
      "text/plain": [
       "'<table>\\n<thead>\\n<tr><th>       </th><th style=\"text-align: right;\">  Solución</th></tr>\\n</thead>\\n<tbody>\\n<tr><td>$x_{0}$</td><td style=\"text-align: right;\">       3  </td></tr>\\n<tr><td>$x_{1}$</td><td style=\"text-align: right;\">      -2.5</td></tr>\\n<tr><td>$x_{2}$</td><td style=\"text-align: right;\">       7  </td></tr>\\n</tbody>\\n</table>'"
      ]
     },
     "execution_count": 4,
     "metadata": {},
     "output_type": "execute_result"
    }
   ],
   "source": [
    "# A continuación, creamos una instancia de la clase `Cramer` y obtenemos la solución.\n",
    "cr = Cramer(A,b)\n",
    "cr.solucion()"
   ]
  },
  {
   "cell_type": "code",
   "execution_count": 5,
   "id": "c5080ee6-9266-49c0-ac33-37fc3a35d4c2",
   "metadata": {},
   "outputs": [
    {
     "name": "stdout",
     "output_type": "stream",
     "text": [
      "Los determinantes calculados para encontrar la solución son:\n"
     ]
    },
    {
     "data": {
      "text/latex": [
       "$\\displaystyle \\begin{flalign}\\Delta S=\\begin{vmatrix}3.0&-0.1&-0.2\\\\0.1&7.0&-0.3\\\\0.3&-0.2&10.0\\end{vmatrix}&=210.3529999999999&&\\\\\\Delta x_{0}=\\begin{vmatrix}7.85&-0.1&-0.2\\\\-19.3&7.0&-0.3\\\\71.4&-0.2&10.0\\end{vmatrix}&=631.0589999999999&&\\\\\\Delta x_{1}=\\begin{vmatrix}3.0&7.85&-0.2\\\\0.1&-19.3&-0.3\\\\0.3&71.4&10.0\\end{vmatrix}&=-525.8825000000002&&\\\\\\Delta x_{2}=\\begin{vmatrix}3.0&-0.1&7.85\\\\0.1&7.0&-19.3\\\\0.3&-0.2&71.4\\end{vmatrix}&=1472.4709999999993&&\\\\x_{0}=\\dfrac{\\Delta x_{0}}{\\Delta S}&=3.000000000000001&&\\\\x_{1}=\\dfrac{\\Delta x_{1}}{\\Delta S}&=-2.500000000000002&&\\\\x_{2}=\\dfrac{\\Delta x_{2}}{\\Delta S}&=7.0&&\\\\\\end{flalign}$"
      ],
      "text/plain": [
       "<IPython.core.display.Math object>"
      ]
     },
     "metadata": {},
     "output_type": "display_data"
    }
   ],
   "source": [
    "print(\"Los determinantes calculados para encontrar la solución son:\")\n",
    "cr.mostrar_determinantes()"
   ]
  }
 ],
 "metadata": {
  "kernelspec": {
   "display_name": "Python 3 (ipykernel)",
   "language": "python",
   "name": "python3"
  },
  "language_info": {
   "codemirror_mode": {
    "name": "ipython",
    "version": 3
   },
   "file_extension": ".py",
   "mimetype": "text/x-python",
   "name": "python",
   "nbconvert_exporter": "python",
   "pygments_lexer": "ipython3",
   "version": "3.10.12"
  }
 },
 "nbformat": 4,
 "nbformat_minor": 5
}
