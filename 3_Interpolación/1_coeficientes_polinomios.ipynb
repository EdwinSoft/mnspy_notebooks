{
 "cells": [
  {
   "cell_type": "markdown",
   "id": "d500bb91-0c42-4b71-be32-29b8bb8d06ef",
   "metadata": {},
   "source": [
    "# Interpolación Polinomial: Determinación de Coeficientes\n",
    "La **interpolación polinomial** consiste en encontrar un polinomio único que pase exactamente por un conjunto de puntos de datos. Para $n+1$ puntos, existe un único polinomio de grado a lo sumo $n$ que pasa por todos ellos.\n",
    "\n",
    "Una forma de encontrar este polinomio es determinar sus coeficientes resolviendo un sistema de ecuaciones lineales.\n",
    " "
   ]
  },
  {
   "cell_type": "markdown",
   "id": "b129c4c2-455e-4319-a7bf-4509c4fa4e4c",
   "metadata": {},
   "source": [
    "## Problema\n",
    " \n",
    " A partir de la siguiente tabla de propiedades del aire, se desea encontrar un polinomio de segundo grado (una parábola) que modele la relación entre la temperatura y la densidad, utilizando los últimos tres puntos de datos.\n",
    " \n",
    " **Tabla de datos:**\n",
    " \n",
    "| $T\\ [^\\circ C]$ | $\\rho\\ [kg/m^{3}]$ | $\\mu\\ [ (Pa\\cdot s)\\times 10^{5} ]$ |\n",
    " |:---:|:---:|:---:|\n",
    " | -40 | 1.52 | 1.51 |\n",
    " | 0 | 1.29 | 1.71 |\n",
    " | 20 | 1.20 | 1.80 |\n",
    " | 50 | 1.09 | 1.95 |\n",
    " | 100 | 0.95 | 2.17 |\n",
    " | 150 | 0.84 | 2.38 |\n",
    " | 200 | 0.75 | 2.57 |\n",
    " | 250 | 0.68 | 2.75 |\n",
    " | 300 | 0.62 | 2.93 |\n",
    " | 400 | 0.53 | 3.25 |\n",
    " | 500 | 0.46 | 3.55 |\n"
   ]
  },
  {
   "cell_type": "markdown",
   "id": "50b66e38-8987-4bd1-a36b-dabed33fe649",
   "metadata": {},
   "source": [
    "Queremos determinar los coeficientes de la parábola $f(x)=p_{0}x^{2}+p_{1}x+p_{2}$ que pasa por los siguientes tres puntos:\n",
    " \t\t$$\\begin{array}{cc}\n",
    " \t\t\tT_{1}=300\t& \\rho_{1}=0.616 \\\\\n",
    " \t\t\tT_{2}=400\t& \\rho_{2}=0.525 \\\\\n",
    " \t\t\tT_{3}=500\t& \\rho_{3}=0.457\n",
    " \t\t\\end{array}$$"
   ]
  },
  {
   "cell_type": "markdown",
   "id": "0aeb6961-c5cc-4b62-983c-cfd986b6d620",
   "metadata": {},
   "source": [
    "### Método 1: Resolución de un Sistema de Ecuaciones Lineales\n",
    " \n",
    " Al sustituir cada punto en la ecuación de la parábola, obtenemos un sistema de 3 ecuaciones lineales con 3 incógnitas ($p_0, p_1, p_2$):\n",
    " \n",
    " $$ p_0(300^2) + p_1(300) + p_2 = 0.616 $$\n",
    " $$ p_0(400^2) + p_1(400) + p_2 = 0.525 $$\n",
    " $$ p_0(500^2) + p_1(500) + p_2 = 0.457 $$\n",
    " \n",
    " En forma matricial, esto es $A \\cdot p = b$:\n",
    " \n",
    " $$\n",
    " \\begin{bmatrix}\n",
    " 300^2 & 300 & 1 \\\\\n",
    " 400^2 & 400 & 1 \\\\\n",
    " 500^2 & 500 & 1\n",
    " \\end{bmatrix}\n",
    " \\begin{bmatrix}\n",
    " p_0 \\\\ p_1 \\\\ p_2\n",
    " \\end{bmatrix}\n",
    " =\n",
    " \\begin{bmatrix}\n",
    " 0.616 \\\\ 0.525 \\\\ 0.457\n",
    " \\end{bmatrix}\n",
    " $$\n",
    "Podemos resolver este sistema para encontrar los coeficientes."
   ]
  },
  {
   "cell_type": "code",
   "execution_count": 1,
   "id": "334fdbe4-d0a5-4683-9edc-1b4f9638b092",
   "metadata": {},
   "outputs": [],
   "source": [
    "import numpy as np\n",
    "from mnspy.ecuaciones_algebraicas_lineales import GaussJordan"
   ]
  },
  {
   "cell_type": "code",
   "execution_count": 2,
   "id": "ae33c25c-14cd-4b33-b6a7-23f4c8a8102e",
   "metadata": {},
   "outputs": [
    {
     "data": {
      "text/latex": [
       "$\\displaystyle \\left[\\begin{array}{ccc}90000&300&1\\\\160000&400&1\\\\250000&500&1\\end{array}\\right]\\cdot\\left\\{\\begin{array}{c}p_0\\\\p_1\\\\p_2\\end{array}\\right\\}=\\left\\{\\begin{array}{c}0.616\\\\0.525\\\\0.457\\end{array}\\right\\}$"
      ],
      "text/plain": [
       "<IPython.core.display.Math object>"
      ]
     },
     "metadata": {},
     "output_type": "display_data"
    }
   ],
   "source": [
    "# Definimos la matriz de coeficientes A (matriz de Vandermonde) y el vector de resultados b.\n",
    "A = np.array([\n",
    " [300**2, 300, 1],\n",
    " [400**2, 400, 1],\n",
    " [500**2, 500, 1]\n",
    "])\n",
    "b = np.array([\n",
    " [0.616],\n",
    " [0.525],\n",
    " [0.457]\n",
    "])\n",
    "# Usamos la clase GaussJordan de mnspy para resolver el sistema.\n",
    "sol = GaussJordan(A,b)\n",
    "sol.ajustar_etiquetas(['p_0','p_1','p_2'])\n",
    "sol.mostrar_sistema()"
   ]
  },
  {
   "cell_type": "code",
   "execution_count": 3,
   "id": "0367bd1d-0fda-453f-9ba5-f237a77eef61",
   "metadata": {},
   "outputs": [
    {
     "name": "stdout",
     "output_type": "stream",
     "text": [
      "Coeficientes encontrados con Gauss-Jordan:\n"
     ]
    },
    {
     "data": {
      "text/html": [
       "<table>\n",
       "<thead>\n",
       "<tr><th>     </th><th style=\"text-align: right;\">  Solución</th></tr>\n",
       "</thead>\n",
       "<tbody>\n",
       "<tr><td>$p_0$</td><td style=\"text-align: right;\">  1.15e-06</td></tr>\n",
       "<tr><td>$p_1$</td><td style=\"text-align: right;\"> -0.001715</td></tr>\n",
       "<tr><td>$p_2$</td><td style=\"text-align: right;\">  1.027   </td></tr>\n",
       "</tbody>\n",
       "</table>"
      ],
      "text/plain": [
       "'<table>\\n<thead>\\n<tr><th>     </th><th style=\"text-align: right;\">  Solución</th></tr>\\n</thead>\\n<tbody>\\n<tr><td>$p_0$</td><td style=\"text-align: right;\">  1.15e-06</td></tr>\\n<tr><td>$p_1$</td><td style=\"text-align: right;\"> -0.001715</td></tr>\\n<tr><td>$p_2$</td><td style=\"text-align: right;\">  1.027   </td></tr>\\n</tbody>\\n</table>'"
      ]
     },
     "execution_count": 3,
     "metadata": {},
     "output_type": "execute_result"
    }
   ],
   "source": [
    "# La solución nos da los coeficientes del polinomio.\n",
    "print(\"Coeficientes encontrados con Gauss-Jordan:\")\n",
    "sol.solucion()"
   ]
  },
  {
   "cell_type": "markdown",
   "id": "cb4969b1-5b3b-4b21-8316-c551663ae617",
   "metadata": {},
   "source": [
    "#### Interpolación\n",
    "Una vez que tenemos los coeficientes, podemos definir el polinomio y usarlo para interpolar valores. Por ejemplo, para encontrar la densidad a $T=350^\\circ C$:\n",
    " "
   ]
  },
  {
   "cell_type": "code",
   "execution_count": 4,
   "id": "7a3b8717-a6e7-47ff-affb-c9c5072e5ef9",
   "metadata": {},
   "outputs": [],
   "source": [
    "# Definimos la función con los coeficientes calculados.\n",
    "def f(x):\n",
    "    # Coeficientes p0, p1, p2 de la solución anterior\n",
    "    return (1.15e-06 * x**2) - (0.001715 * x) + 1.027"
   ]
  },
  {
   "cell_type": "code",
   "execution_count": 5,
   "id": "45ee0043-b3c2-4a83-b8fa-91323091a9d6",
   "metadata": {},
   "outputs": [
    {
     "name": "stdout",
     "output_type": "stream",
     "text": [
      "La densidad interpolada a 350°C es: 0.56762 kg/m³\n"
     ]
    }
   ],
   "source": [
    "densidad_350 = f(350)\n",
    "print(f\"La densidad interpolada a 350°C es: {densidad_350:.5f} kg/m³\")"
   ]
  },
  {
   "cell_type": "markdown",
   "id": "0d071f25-be6d-48f2-a8a6-b642b561d407",
   "metadata": {},
   "source": [
    "___\n",
    "### Método 2: Usando `numpy.polyfit` (Método Recomendado)\n",
    "\n",
    "NumPy ofrece una forma mucho más directa y robusta de encontrar los coeficientes de un polinomio de ajuste con la función `np.polyfit`.\n",
    " "
   ]
  },
  {
   "cell_type": "code",
   "execution_count": 6,
   "id": "d576c620-99a8-4021-bdd4-39323e3a2314",
   "metadata": {},
   "outputs": [
    {
     "name": "stdout",
     "output_type": "stream",
     "text": [
      "Coeficientes encontrados con np.polyfit:\n",
      "[ 1.150e-06 -1.715e-03  1.027e+00]\n"
     ]
    }
   ],
   "source": [
    "# Definimos los puntos de datos.\n",
    "T = np.array([300., 400., 500.])\n",
    "rho = np.array([0.616, 0.525, 0.457])\n",
    "# Usamos polyfit para encontrar los coeficientes de un polinomio de grado 2.\n",
    "coef = np.polyfit(T,rho,2)\n",
    "print(\"Coeficientes encontrados con np.polyfit:\")\n",
    "print(coef)"
   ]
  },
  {
   "cell_type": "markdown",
   "id": "7cd2737b-5809-4541-b334-2c8f8cc25533",
   "metadata": {},
   "source": [
    "Una vez obtenidos los coeficientes, usamos `np.polyval` para evaluar el polinomio en el punto deseado."
   ]
  },
  {
   "cell_type": "code",
   "execution_count": 7,
   "id": "ff80426f-3ee1-4dc2-97cf-afe1d6d48497",
   "metadata": {},
   "outputs": [
    {
     "name": "stdout",
     "output_type": "stream",
     "text": [
      "La densidad interpolada a 350°C con polyval es: 0.56762 kg/m³\n"
     ]
    }
   ],
   "source": [
    "# Usamos polyval para interpolar la densidad a 350°C.\n",
    "densidad_350_polyval = np.polyval(coef, 350.)\n",
    "print(f\"La densidad interpolada a 350°C con polyval es: {densidad_350_polyval:.5f} kg/m³\")"
   ]
  },
  {
   "cell_type": "markdown",
   "id": "c62101b4-b29e-476d-a9a3-2d6e9c4086c4",
   "metadata": {},
   "source": [
    "### Conclusión\n",
    "Ambos métodos producen los mismos coeficientes y el mismo resultado interpolado. Sin embargo, el uso de `np.polyfit` y `np.polyval` es la práctica estándar en Python, ya que es más simple, menos propenso a errores y numéricamente más estable que resolver el sistema de ecuaciones manualmente."
   ]
  }
 ],
 "metadata": {
  "kernelspec": {
   "display_name": "Python 3 (ipykernel)",
   "language": "python",
   "name": "python3"
  },
  "language_info": {
   "codemirror_mode": {
    "name": "ipython",
    "version": 3
   },
   "file_extension": ".py",
   "mimetype": "text/x-python",
   "name": "python",
   "nbconvert_exporter": "python",
   "pygments_lexer": "ipython3",
   "version": "3.10.12"
  }
 },
 "nbformat": 4,
 "nbformat_minor": 5
}
