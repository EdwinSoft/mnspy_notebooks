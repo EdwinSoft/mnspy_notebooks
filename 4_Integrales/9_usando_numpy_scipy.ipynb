{
 "cells": [
  {
   "cell_type": "markdown",
   "id": "0b24940c-70b7-4c17-9002-4e5e5dec7ffa",
   "metadata": {},
   "source": [
    "# Integración Numérica con NumPy y SciPy\n",
    "Aunque la biblioteca `mnspy` es excelente para aprender los fundamentos de los métodos numéricos, en la práctica, las bibliotecas estándar de Python como **NumPy** y **SciPy** ofrecen funciones optimizadas, robustas y eficientes para realizar estas tareas.\n",
    "\n",
    "A continuación, se muestra cómo realizar la integración numérica utilizando estas potentes herramientas.\n",
    " "
   ]
  },
  {
   "cell_type": "markdown",
   "id": "fca798dc-b1ec-486f-8cf1-78138d2d52e7",
   "metadata": {},
   "source": [
    "## 1. Integración de Datos Discretos con `numpy.trapezoid`\n",
    " \n",
    "Cuando se tienen datos en forma de arreglos (por ejemplo, de un experimento) y no una función explícita, `numpy.trapezoid` es la herramienta ideal. Implementa la regla del trapecio para datos con espaciado potencialmente desigual.\n",
    "\n",
    "**Problema:** Estimar la integral del siguiente conjunto de datos tabulados."
   ]
  },
  {
   "cell_type": "code",
   "id": "8b8d3f75-ccf1-4ddf-bcf6-ca15d5a9117c",
   "metadata": {
    "ExecuteTime": {
     "end_time": "2025-09-13T14:08:03.666122Z",
     "start_time": "2025-09-13T14:08:03.664037Z"
    }
   },
   "source": [
    "import numpy as np"
   ],
   "outputs": [],
   "execution_count": 17
  },
  {
   "metadata": {},
   "cell_type": "markdown",
   "source": "Definimos los vectores x (variable independiente) e y (variable dependiente) con los datos.",
   "id": "ce54b9edf4b68722"
  },
  {
   "metadata": {
    "ExecuteTime": {
     "end_time": "2025-09-13T14:08:03.675344Z",
     "start_time": "2025-09-13T14:08:03.673111Z"
    }
   },
   "cell_type": "code",
   "source": [
    "x = np.array([0, 0.12, 0.22, 0.32, 0.36, 0.4, 0.44, 0.54, 0.64, 0.7, 0.8])\n",
    "y = np.array([0.2, 1.309729, 1.305241, 1.743393, 2.074903, 2.456, 2.842985, 3.507297, 3.181929, 2.363, 0.232])"
   ],
   "id": "38d22a5d22f7a98c",
   "outputs": [],
   "execution_count": 18
  },
  {
   "metadata": {},
   "cell_type": "markdown",
   "source": [
    "- `np.trapezoid(y, x)` calcula la integral usando la regla del trapecio.\n",
    "- El primer argumento es el de las ordenadas `(y)` y el segundo el de las abscisas `(x)`."
   ],
   "id": "756c5fc0b2a4a4be"
  },
  {
   "metadata": {
    "ExecuteTime": {
     "end_time": "2025-09-13T14:08:03.731381Z",
     "start_time": "2025-09-13T14:08:03.728074Z"
    }
   },
   "cell_type": "code",
   "source": [
    "integral_np = np.trapezoid(y, x)\n",
    "print(f\"La integral calculada con numpy.trapezoid es: {integral_np}\")"
   ],
   "id": "72879f45b04a3ac4",
   "outputs": [
    {
     "name": "stdout",
     "output_type": "stream",
     "text": [
      "La integral calculada con numpy.trapezoid es: 1.59480089\n"
     ]
    }
   ],
   "execution_count": 19
  },
  {
   "cell_type": "markdown",
   "id": "9afd0f99-ad20-4328-b207-cef090680d07",
   "metadata": {},
   "source": [
    "___\n",
    " ## 2. Integración de Funciones con `scipy.integrate.quad`"
   ]
  },
  {
   "cell_type": "markdown",
   "id": "b3da3ddf-7e12-4634-9adc-fdca241a6c8c",
   "metadata": {},
   "source": [
    "Para integrar una función definida, la función `scipy.integrate.quad` (cuadratura) es la opción estándar. Es un integrador de propósito general muy potente y preciso, basado en la biblioteca QUADPACK de Fortran.\n",
    " \n",
    "**Problema:** Estimar la integral de la siguiente función desde $x=0$ hasta $x=0.8$.\n",
    "$$ f(x) = 0.2 + 25x - 200x^2 + 675x^3 - 900x^4 + 400x^5 $$"
   ]
  },
  {
   "cell_type": "code",
   "id": "06dc70b8-a785-4198-98ec-dc8f5ac58427",
   "metadata": {
    "ExecuteTime": {
     "end_time": "2025-09-13T14:08:03.779491Z",
     "start_time": "2025-09-13T14:08:03.777029Z"
    }
   },
   "source": [
    "from scipy.integrate import quad"
   ],
   "outputs": [],
   "execution_count": 20
  },
  {
   "metadata": {},
   "cell_type": "markdown",
   "source": "Primero, definimos la función a integrar.",
   "id": "1b06d12f7dc654b8"
  },
  {
   "metadata": {
    "ExecuteTime": {
     "end_time": "2025-09-13T14:08:03.828800Z",
     "start_time": "2025-09-13T14:08:03.824979Z"
    }
   },
   "cell_type": "code",
   "source": [
    "def f(x):\n",
    "    return 0.2 + 25 * x - 200 * x ** 2 + 675 * x ** 3 - 900 * x ** 4 + 400 * x ** 5"
   ],
   "id": "10745c5705f2cc",
   "outputs": [],
   "execution_count": 21
  },
  {
   "metadata": {},
   "cell_type": "markdown",
   "source": "`quad(funcion, limite_inferior, limite_superior)` Devuelve una tupla: `(resultado_integral, error_estimado)`",
   "id": "dcecf1d7be992abf"
  },
  {
   "metadata": {
    "ExecuteTime": {
     "end_time": "2025-09-13T14:08:03.878636Z",
     "start_time": "2025-09-13T14:08:03.876107Z"
    }
   },
   "cell_type": "code",
   "source": [
    "resultado, error = quad(f, 0., 0.8)\n",
    "print(f\"La integral calculada con scipy.integrate.quad es: {resultado}\")\n",
    "print(f\"El error absoluto estimado es: {error}\")"
   ],
   "id": "73d845561d1dec2b",
   "outputs": [
    {
     "name": "stdout",
     "output_type": "stream",
     "text": [
      "La integral calculada con scipy.integrate.quad es: 1.6405333333333307\n",
      "El error absoluto estimado es: 1.8213578793317207e-14\n"
     ]
    }
   ],
   "execution_count": 22
  },
  {
   "cell_type": "markdown",
   "id": "2f934873-0620-4de7-837d-2138d93f5518",
   "metadata": {},
   "source": [
    "### Conclusión\n",
    " \n",
    " -   Usa **`numpy.trapezoid`** cuando tengas **datos discretos** (arreglos `x` e `y`).\n",
    " -   Usa **`scipy.integrate.quad`** cuando tengas una **función de Python** que puedas evaluar. Es el método preferido por su alta precisión y robustez."
   ]
  }
 ],
 "metadata": {
  "kernelspec": {
   "display_name": "Python 3 (ipykernel)",
   "language": "python",
   "name": "python3"
  },
  "language_info": {
   "codemirror_mode": {
    "name": "ipython",
    "version": 3
   },
   "file_extension": ".py",
   "mimetype": "text/x-python",
   "name": "python",
   "nbconvert_exporter": "python",
   "pygments_lexer": "ipython3",
   "version": "3.10.12"
  }
 },
 "nbformat": 4,
 "nbformat_minor": 5
}
