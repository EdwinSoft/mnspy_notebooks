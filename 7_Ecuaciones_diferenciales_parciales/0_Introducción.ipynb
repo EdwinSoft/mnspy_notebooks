{
 "cells": [
  {
   "cell_type": "markdown",
   "id": "3dac01f4-ef42-4ad9-abf0-e17eb6ad6fea",
   "metadata": {},
   "source": [
    "# Introducción a las Ecuaciones Diferenciales Parciales (EDPs)\n",
    "## Solución de la Ecuación de Laplace con Diferencias Finitas\n",
    "\n",
    "Este notebook introduce la solución numérica de EDPs elípticas, utilizando como ejemplo la **Ecuación de Laplace** en dos dimensiones. Este es un problema clásico que modela, por ejemplo, la distribución de temperatura en una placa en estado estacionario.\n",
    "\n",
    "### Ecuación de Laplace\n",
    "\n",
    "La ecuación de Laplace describe un campo potencial (como la temperatura, el potencial eléctrico, etc.) en estado estacionario, y se expresa como:\n",
    "\n",
    "$$ \\nabla^2 U = \\frac{\\partial^2 U}{\\partial x^2} + \\frac{\\partial^2 U}{\\partial y^2} = 0 $$\n",
    "\n",
    "### Método de Diferencias Finitas\n",
    "\n",
    "Para resolverla numéricamente, discretizamos el dominio (la placa) en una malla de puntos. Luego, aproximamos las segundas derivadas usando diferencias finitas centradas. Esto nos lleva a la siguiente aproximación para cada nodo $(i, j)$ de la malla:\n",
    "\n",
    "$$ \\frac{U_{i+1,j} - 2U_{i,j} + U_{i-1,j}}{(\\Delta x)^2} + \\frac{U_{i,j+1} - 2U_{i,j} + U_{i,j-1}}{(\\Delta y)^2} = 0 $$\n",
    "\n",
    "Si consideramos una malla uniforme donde $\\Delta x = \\Delta y$, podemos despejar $U_{i,j}$ para obtener una fórmula iterativa (**Método de Jacobi**):\n",
    "\n",
    "$$ U_{i,j} = \\frac{U_{i+1,j} + U_{i-1,j} + U_{i,j+1} + U_{i,j-1}}{4} $$\n",
    "\n",
    "Esta fórmula establece que la temperatura en un punto es simplemente el promedio de las temperaturas de sus cuatro vecinos más cercanos. Resolveremos el sistema de forma iterativa hasta que la solución converja.\n",
    "\n",
    "---\n",
    "## Problema\n",
    "\n",
    "Resolver la distribución de temperatura en una placa cuadrada de 50x50, con las siguientes condiciones de frontera (temperaturas fijas):\n",
    "- **Borde Norte (superior):** 100 °C\n",
    "- **Borde Sur (inferior):** 20 °C\n",
    "- **Borde Oeste (izquierdo):** 20 °C\n",
    "- **Borde Este (derecho):** 0 °C\n"
   ]
  },
  {
   "cell_type": "code",
   "execution_count": 1,
   "id": "47e5328d-da6d-4202-8b29-f45a894e4704",
   "metadata": {},
   "outputs": [],
   "source": [
    "import matplotlib.pyplot as plt\n",
    "import numpy as np\n",
    "%matplotlib qt"
   ]
  },
  {
   "cell_type": "markdown",
   "id": "787744f4-04a0-4091-9d22-bbcfbbc08dcf",
   "metadata": {},
   "source": [
    "### 1. Definición de la Malla y Parámetros"
   ]
  },
  {
   "cell_type": "code",
   "execution_count": 2,
   "id": "1e3574a4-3aa8-49b9-afab-82afd334d53f",
   "metadata": {},
   "outputs": [],
   "source": [
    "# Tamaño de la malla (n x n)\n",
    "n = 50\n",
    "# Creamos las coordenadas X, Y para la visualización\n",
    "X, Y = np.meshgrid(np.arange(0, n), np.arange(0, n))"
   ]
  },
  {
   "cell_type": "markdown",
   "id": "927cfc2e-c6e2-4135-bcdc-59109176d01a",
   "metadata": {},
   "source": [
    "### 2. Inicialización y Condiciones de Frontera"
   ]
  },
  {
   "cell_type": "code",
   "execution_count": 3,
   "id": "a9cb1a4e-7873-449c-a9ac-538d79e1beac",
   "metadata": {},
   "outputs": [],
   "source": [
    "# Valor inicial para todos los nodos interiores de la placa\n",
    "U0 = 30\n",
    "U = np.full((n, n), U0, dtype=float)"
   ]
  },
  {
   "cell_type": "code",
   "execution_count": 4,
   "id": "74ee2a17-81f7-4ecf-9be1-2861ba6810b7",
   "metadata": {},
   "outputs": [],
   "source": [
    "# Definimos las temperaturas en las fronteras\n",
    "U_norte = 100\n",
    "U_sur = 20\n",
    "U_oeste = 20\n",
    "U_este = 0"
   ]
  },
  {
   "cell_type": "code",
   "execution_count": 5,
   "id": "1763c5db-641e-46a1-b038-f07acb4fbadb",
   "metadata": {},
   "outputs": [],
   "source": [
    "# Aplicamos las condiciones de frontera a la matriz U\n",
    "U[n-1, :] = U_norte  # Borde superior\n",
    "U[0, :] = U_sur      # Borde inferior\n",
    "U[:, 0] = U_oeste    # Borde izquierdo\n",
    "U[:, n-1] = U_este   # Borde derecho"
   ]
  },
  {
   "cell_type": "markdown",
   "id": "983ae60d-c458-43d7-b8d4-d84f0922bc6b",
   "metadata": {},
   "source": [
    "### 3. Solución Iterativa y Visualización"
   ]
  },
  {
   "cell_type": "code",
   "execution_count": 6,
   "id": "40ede1ca-062d-4a95-94dd-3249f46e4d9e",
   "metadata": {},
   "outputs": [],
   "source": [
    "# Creamos la figura para la animación\n",
    "fig, ax = plt.subplots(1, 1)\n",
    "\n",
    "# Bucle iterativo para resolver la ecuación\n",
    "for iteracion in range(200):\n",
    "    # Recorremos solo los nodos interiores de la malla\n",
    "    for i in range(1, n - 1):\n",
    "        for j in range(1, n - 1):\n",
    "            # Aplicamos la fórmula del promedio de los vecinos (Método de Jacobi)\n",
    "            U[i, j] = (U[i+1, j] + U[i-1, j] + U[i, j+1] + U[i, j-1]) / 4\n",
    "    # Actualizamos la gráfica en cada iteración para crear la animación\n",
    "    ax.clear()\n",
    "    contour = ax.contourf(X, Y, U, 25, cmap='jet')\n",
    "    ax.set_title(f'Distribución de Temperatura (Iteración: {iteracion + 1})')\n",
    "    ax.set_xlabel('Coordenada X')\n",
    "    ax.set_ylabel('Coordenada Y')\n",
    "    # Añadimos la barra de color si es la primera iteración\n",
    "    if iteracion == 0:\n",
    "        fig.colorbar(contour, ax=ax, label='Temperatura (°C)')\n",
    "    plt.pause(0.01)\n",
    "plt.show()"
   ]
  }
 ],
 "metadata": {
  "kernelspec": {
   "display_name": "Python 3 (ipykernel)",
   "language": "python",
   "name": "python3"
  },
  "language_info": {
   "codemirror_mode": {
    "name": "ipython",
    "version": 3
   },
   "file_extension": ".py",
   "mimetype": "text/x-python",
   "name": "python",
   "nbconvert_exporter": "python",
   "pygments_lexer": "ipython3",
   "version": "3.10.12"
  }
 },
 "nbformat": 4,
 "nbformat_minor": 5
}
