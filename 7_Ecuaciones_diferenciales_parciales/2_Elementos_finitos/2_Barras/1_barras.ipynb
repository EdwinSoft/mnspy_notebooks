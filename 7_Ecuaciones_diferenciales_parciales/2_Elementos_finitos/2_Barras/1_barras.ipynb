{
 "cells": [
  {
   "cell_type": "markdown",
   "id": "eb889cbc-6c2f-4013-ab71-23237a802957",
   "metadata": {},
   "source": [
    "# Análisis de un Sistema de Barras con el Método de Elementos Finitos (MEF)\n",
    "Este notebook demuestra cómo resolver un sistema de barras sometido a carga axial utilizando el MEF. El análisis de barras es muy similar al de resortes, pero la rigidez de cada elemento no es un valor dado, sino que se calcula a partir de sus propiedades geométricas y de material.\n",
    " \n",
    "La matriz de rigidez para un elemento de barra es:\n",
    "$$ [k] = \\frac{AE}{L} \\begin{bmatrix} 1 & -1 \\\\ -1 & 1 \\end{bmatrix} $$\n",
    "Donde $A$ es el área de la sección transversal, $E$ es el Módulo de Young del material y $L$ es la longitud del elemento."
   ]
  },
  {
   "attachments": {
    "818dbf12-8558-4685-9547-ea0ff195dfdf.png": {
     "image/png": "[encoded data removed]"
    }
   },
   "cell_type": "markdown",
   "id": "b9fe4337-464c-4854-8838-bb6d647d12de",
   "metadata": {},
   "source": [
    "**Problema:**\n",
    " \n",
    "El siguiente ejemplo, basado en el libro *A First Course in the Finite Element Method* de Daryl L. Logan, analiza el sistema de barras mostrado a continuación. Se busca determinar los desplazamientos en los nodos 2 y 3, las fuerzas de reacción en los apoyos y las fuerzas y esfuerzos internos en cada barra.\n",
    "\n",
    "![imagen.png](attachment:818dbf12-8558-4685-9547-ea0ff195dfdf.png)"
   ]
  },
  {
   "cell_type": "code",
   "execution_count": 1,
   "id": "ba880426-a1f8-4d45-83ab-c91f199294ed",
   "metadata": {},
   "outputs": [],
   "source": [
    "from mnspy import Nodo, Barra, Ensamble"
   ]
  },
  {
   "cell_type": "markdown",
   "id": "43ce8720-18ea-417f-b28e-012b6fb39ebd",
   "metadata": {},
   "source": [
    "### Paso 1: Definición de los Nodos\n",
    "Se crean los nodos del sistema, especificando su coordenada y sus condiciones de frontera.\n",
    "- `{'x': False}`: Desplazamiento restringido (apoyo fijo).\n",
    "- `{'x': True}`: Desplazamiento libre."
   ]
  },
  {
   "cell_type": "code",
   "execution_count": 2,
   "id": "e349afdf-092c-41b8-9095-f1a1ed3cdac0",
   "metadata": {},
   "outputs": [],
   "source": [
    "n_1= Nodo('1', 0,grados_libertad={'x': False})\n",
    "n_2= Nodo('2', 0.6,grados_libertad={'x': True})\n",
    "n_3= Nodo('3', 1.2,grados_libertad={'x': True})\n",
    "n_4= Nodo('4', 1.8,grados_libertad={'x': False})"
   ]
  },
  {
   "cell_type": "code",
   "execution_count": 3,
   "id": "87a3552e-2ec9-4ff5-a4b7-b2638db949e7",
   "metadata": {},
   "outputs": [
    {
     "name": "stdout",
     "output_type": "stream",
     "text": [
      "Nodo 1 (ejemplo):\n"
     ]
    },
    {
     "data": {
      "text/latex": [
       "$\\begin{array}{l}Nombre &: 1\\\\Punto &:(0, 0.0, 0.0)\\\\Grados~de~libertad &: \\begin{cases}x&: fijo\\\\\\end{cases}\\\\Fuerzas~externas &: \\begin{cases}x&: 0.0\\\\\\end{cases}\\\\Desplazamientos &: \\begin{cases}x&: 0.0\\\\\\end{cases}\\\\Reacciones &: \\begin{cases}\\color{blue}x&\\color{blue}: None\\\\\\end{cases}\\end{array}$"
      ],
      "text/plain": [
       "Nodo: 1"
      ]
     },
     "execution_count": 3,
     "metadata": {},
     "output_type": "execute_result"
    }
   ],
   "source": [
    "print(\"Nodo 1 (ejemplo):\")\n",
    "n_1"
   ]
  },
  {
   "cell_type": "markdown",
   "id": "4f08791d-e817-4d46-9061-6958dcbed096",
   "metadata": {},
   "source": [
    "### Paso 2: Definición de los Elementos (Barras)\n",
    " \n",
    "Se crean los elementos tipo `Barra`, especificando su ID, los nodos que conecta, el área de su sección transversal `A` y su Módulo de Young `E`."
   ]
  },
  {
   "cell_type": "code",
   "execution_count": 4,
   "id": "f6a7b830-8113-4c0e-96bd-81fae7536f1e",
   "metadata": {},
   "outputs": [],
   "source": [
    "e_1 = Barra('1',n_1,n_2, A=6E-4, E=2E11)\n",
    "e_2 = Barra('2',n_2,n_3, A=6E-4, E=2E11)\n",
    "e_3 = Barra('3',n_3,n_4, A=12E-4, E=1E11)"
   ]
  },
  {
   "cell_type": "markdown",
   "id": "c0bcfd70-1c79-4cbb-b416-fd994f2337cb",
   "metadata": {},
   "source": [
    "### Paso 3: Aplicación de Cargas Externas\n",
    "Se aplica la fuerza externa de $15000\\,N$ en el nodo $2$."
   ]
  },
  {
   "cell_type": "code",
   "execution_count": 5,
   "id": "52638bd3-ccb7-4297-b4ee-0597170fbc60",
   "metadata": {},
   "outputs": [],
   "source": [
    "n_2.agregar_fuerza_externa(15000,'x')"
   ]
  },
  {
   "cell_type": "markdown",
   "id": "2b1223dd-38cb-4892-99cf-58fb6351f9af",
   "metadata": {},
   "source": [
    "### Paso 4: Matrices de Rigidez de los Elementos\n",
    "\n",
    "Cada elemento `Barra` calcula su propia matriz de rigidez local a partir de sus propiedades."
   ]
  },
  {
   "cell_type": "code",
   "execution_count": 6,
   "id": "cffd270b-ef41-4782-9b69-ab1640a3b74b",
   "metadata": {},
   "outputs": [
    {
     "data": {
      "text/latex": [
       "$\\left\\{\\begin{array}{c}f^{(1)}_{1x}\\\\f^{(1)}_{2x}\\end{array}\\right\\}_{\\{f\\}}=\\left[\\begin{array}{cc}2E+08&-2E+08\\\\-2E+08&2E+08\\end{array}\\right]_{[k]}\\cdot\\left\\{\\begin{array}{c}u_{1}=0\\\\\\color{blue}u_{2}\\end{array}\\right\\}_{\\{d\\}}$"
      ],
      "text/plain": [
       "Barra: 1"
      ]
     },
     "execution_count": 6,
     "metadata": {},
     "output_type": "execute_result"
    }
   ],
   "source": [
    "e_1"
   ]
  },
  {
   "cell_type": "code",
   "execution_count": 7,
   "id": "a05a184c-6091-48d7-ac01-674f92804aec",
   "metadata": {},
   "outputs": [
    {
     "data": {
      "text/latex": [
       "$\\left\\{\\begin{array}{c}f^{(2)}_{2x}\\\\f^{(2)}_{3x}\\end{array}\\right\\}_{\\{f\\}}=\\left[\\begin{array}{cc}2E+08&-2E+08\\\\-2E+08&2E+08\\end{array}\\right]_{[k]}\\cdot\\left\\{\\begin{array}{c}\\color{blue}u_{2}\\\\\\color{blue}u_{3}\\end{array}\\right\\}_{\\{d\\}}$"
      ],
      "text/plain": [
       "Barra: 2"
      ]
     },
     "execution_count": 7,
     "metadata": {},
     "output_type": "execute_result"
    }
   ],
   "source": [
    "e_2"
   ]
  },
  {
   "cell_type": "code",
   "execution_count": 8,
   "id": "3bd5472c-8893-424a-a5d9-effe1205c36c",
   "metadata": {},
   "outputs": [
    {
     "data": {
      "text/latex": [
       "$\\left\\{\\begin{array}{c}f^{(3)}_{3x}\\\\f^{(3)}_{4x}\\end{array}\\right\\}_{\\{f\\}}=\\left[\\begin{array}{cc}2E+08&-2E+08\\\\-2E+08&2E+08\\end{array}\\right]_{[k]}\\cdot\\left\\{\\begin{array}{c}\\color{blue}u_{3}\\\\u_{4}=0\\end{array}\\right\\}_{\\{d\\}}$"
      ],
      "text/plain": [
       "Barra: 3"
      ]
     },
     "execution_count": 8,
     "metadata": {},
     "output_type": "execute_result"
    }
   ],
   "source": [
    "e_3"
   ]
  },
  {
   "cell_type": "markdown",
   "id": "e02d2551-5aaa-4889-a311-976cb79e7db6",
   "metadata": {},
   "source": [
    "### Paso 5: Ensamble del Sistema y Diagrama\n",
    "Se crea un objeto `Ensamble` que agrupa todos los elementos."
   ]
  },
  {
   "cell_type": "code",
   "execution_count": 9,
   "id": "6191cde9-32cf-4799-8e7c-60a6a1fa3c27",
   "metadata": {},
   "outputs": [
    {
     "data": {
      "image/png": "[encoded data removed]",
      "text/plain": [
       "<Figure size 1000x600 with 1 Axes>"
      ]
     },
     "metadata": {},
     "output_type": "display_data"
    }
   ],
   "source": [
    "mg = Ensamble([e_1, e_2, e_3])\n",
    "mg.diagrama_cargas()"
   ]
  },
  {
   "cell_type": "markdown",
   "id": "a99d0aa5-5d6a-4ad2-a44a-1d71dfd7a6c2",
   "metadata": {},
   "source": [
    "### Paso 6: Matriz de Rigidez Global\n",
    "El ensamble construye la matriz de rigidez global del sistema completo."
   ]
  },
  {
   "cell_type": "code",
   "execution_count": 10,
   "id": "334c6639-d8d3-4779-ba5c-c98235ea5bac",
   "metadata": {},
   "outputs": [
    {
     "data": {
      "text/latex": [
       "$\\left\\{\\begin{array}{c}\\color{blue}F_{1x}\\\\\\cancel{F_{2x}}\\\\\\cancel{F_{3x}}\\\\\\color{blue}F_{4x}\\end{array}\\right\\}_{\\{R\\}}+\\left\\{\\begin{array}{c}0.0\\\\15000.0\\\\0.0\\\\0.0\\end{array}\\right\\}_{\\{F_{ext.}\\}}=\\left[\\begin{array}{cccc}2E+08&-2E+08&0&0\\\\-2E+08&4E+08&-2E+08&0\\\\0&-2E+08&4E+08&-2E+08\\\\0&0&-2E+08&2E+08\\end{array}\\right]_{[K]}\\cdot\\left\\{\\begin{array}{c}u_{1}=0\\\\\\color{blue}u_{2}\\\\\\color{blue}u_{3}\\\\u_{4}=0\\end{array}\\right\\}_{\\{d\\}}$"
      ],
      "text/plain": [
       " "
      ]
     },
     "execution_count": 10,
     "metadata": {},
     "output_type": "execute_result"
    }
   ],
   "source": [
    "mg"
   ]
  },
  {
   "cell_type": "markdown",
   "id": "8ce7adc6-cc0b-4e3f-8f3a-f67fd4d2d052",
   "metadata": {},
   "source": [
    "### Paso 7: Matriz de Rigidez Global Reducida\n",
    "\n",
    "Esta es la matriz de rigidez que corresponde únicamente a los grados de libertad desconocidos (desplazamientos en los nodos $2$ y $3$). "
   ]
  },
  {
   "cell_type": "code",
   "execution_count": 11,
   "id": "76666493-d7bf-486a-9c4a-5a1ecd0553f7",
   "metadata": {},
   "outputs": [
    {
     "data": {
      "text/latex": [
       "$\\displaystyle \\left\\{\\begin{array}{c}\\cancel{F_{2x}}\\\\\\cancel{F_{3x}}\\end{array}\\right\\}_{\\{R\\}}+\\left\\{\\begin{array}{c}15000.0\\\\0.0\\end{array}\\right\\}_{\\{F_{ext.}\\}}=\\left[\\begin{array}{cc}4E+08&-2E+08\\\\-2E+08&4E+08\\end{array}\\right]_{[K]}\\cdot\\left\\{\\begin{array}{c}\\color{blue}u_{2}\\\\\\color{blue}u_{3}\\end{array}\\right\\}_{\\{d\\}}$"
      ],
      "text/plain": [
       "<IPython.core.display.Math object>"
      ]
     },
     "metadata": {},
     "output_type": "display_data"
    }
   ],
   "source": [
    "mg.matriz_global_reducida()"
   ]
  },
  {
   "cell_type": "markdown",
   "id": "fb7f98f7-1bd1-4116-b981-113fcf625042",
   "metadata": {},
   "source": [
    "### Paso 8: Solución del Sistema\n",
    "\n",
    "Se resuelve el sistema `[K]{u} = {F}` para encontrar los desplazamientos desconocidos y luego se calculan las fuerzas de reacción."
   ]
  },
  {
   "cell_type": "code",
   "execution_count": 12,
   "id": "a05e7fc6-c38c-4b48-bf8b-67e7d0b3e7c3",
   "metadata": {},
   "outputs": [
    {
     "data": {
      "text/html": [
       "<table>\n",
       "<thead>\n",
       "<tr><th>Desplazamientos                       </th><th>Reacciones                 </th></tr>\n",
       "</thead>\n",
       "<tbody>\n",
       "<tr><td>$u_{1}=0$                             </td><td>$\\color{blue}F_{1x}=-10000$</td></tr>\n",
       "<tr><td>$\\color{blue}u_{2}=5 \\times 10^{-5}$  </td><td>$\\cancel{F_{2x}}$          </td></tr>\n",
       "<tr><td>$\\color{blue}u_{3}=2.5 \\times 10^{-5}$</td><td>$\\cancel{F_{3x}}$          </td></tr>\n",
       "<tr><td>$u_{4}=0$                             </td><td>$\\color{blue}F_{4x}=-5000$ </td></tr>\n",
       "</tbody>\n",
       "</table>"
      ],
      "text/plain": [
       "'<table>\\n<thead>\\n<tr><th>Desplazamientos                       </th><th>Reacciones                 </th></tr>\\n</thead>\\n<tbody>\\n<tr><td>$u_{1}=0$                             </td><td>$\\\\color{blue}F_{1x}=-10000$</td></tr>\\n<tr><td>$\\\\color{blue}u_{2}=5 \\\\times 10^{-5}$  </td><td>$\\\\cancel{F_{2x}}$          </td></tr>\\n<tr><td>$\\\\color{blue}u_{3}=2.5 \\\\times 10^{-5}$</td><td>$\\\\cancel{F_{3x}}$          </td></tr>\\n<tr><td>$u_{4}=0$                             </td><td>$\\\\color{blue}F_{4x}=-5000$ </td></tr>\\n</tbody>\\n</table>'"
      ]
     },
     "execution_count": 12,
     "metadata": {},
     "output_type": "execute_result"
    }
   ],
   "source": [
    "mg.solucionar_por_gauss_y_calcular_reacciones()\n",
    "# El método `solucion()` muestra los desplazamientos calculados.\n",
    "mg.solucion()"
   ]
  },
  {
   "cell_type": "markdown",
   "id": "677c68e9-38f0-4d41-882d-0f089cfbf48f",
   "metadata": {},
   "source": [
    "### Paso 9: Post-procesamiento (Fuerzas y Esfuerzos Internos)\n",
    "Una vez conocidos los desplazamientos nodales, se puede calcular la fuerza y el esfuerzo normal ($\\sigma = F/A$) en cada barra."
   ]
  },
  {
   "cell_type": "code",
   "execution_count": 13,
   "id": "06dbd03d-afed-47b1-808f-142547c36a71",
   "metadata": {},
   "outputs": [
    {
     "data": {
      "text/html": [
       "<table>\n",
       "<thead>\n",
       "<tr><th>              </th><th style=\"text-align: right;\">  Fuerzas internas</th></tr>\n",
       "</thead>\n",
       "<tbody>\n",
       "<tr><td>$f^{(1)}_{1x}$</td><td style=\"text-align: right;\">            -10000</td></tr>\n",
       "<tr><td>$f^{(1)}_{2x}$</td><td style=\"text-align: right;\">             10000</td></tr>\n",
       "</tbody>\n",
       "</table>"
      ],
      "text/plain": [
       "'<table>\\n<thead>\\n<tr><th>              </th><th style=\"text-align: right;\">  Fuerzas internas</th></tr>\\n</thead>\\n<tbody>\\n<tr><td>$f^{(1)}_{1x}$</td><td style=\"text-align: right;\">            -10000</td></tr>\\n<tr><td>$f^{(1)}_{2x}$</td><td style=\"text-align: right;\">             10000</td></tr>\\n</tbody>\\n</table>'"
      ]
     },
     "execution_count": 13,
     "metadata": {},
     "output_type": "execute_result"
    }
   ],
   "source": [
    "e_1.fuerzas_internas()"
   ]
  },
  {
   "cell_type": "code",
   "execution_count": 14,
   "id": "35fa1271-2854-4662-8caa-210f90704d3e",
   "metadata": {},
   "outputs": [
    {
     "data": {
      "image/png": "[encoded data removed]",
      "text/plain": [
       "<Figure size 640x480 with 1 Axes>"
      ]
     },
     "metadata": {},
     "output_type": "display_data"
    }
   ],
   "source": [
    "e_1.diagrama_fuerzas_internas()"
   ]
  },
  {
   "cell_type": "code",
   "execution_count": 15,
   "id": "78c28cef-f3a0-44a5-999f-d1842e0d7631",
   "metadata": {},
   "outputs": [
    {
     "data": {
      "text/html": [
       "<table>\n",
       "<thead>\n",
       "<tr><th>              </th><th style=\"text-align: right;\">  Fuerzas internas</th></tr>\n",
       "</thead>\n",
       "<tbody>\n",
       "<tr><td>$f^{(2)}_{2x}$</td><td style=\"text-align: right;\">              5000</td></tr>\n",
       "<tr><td>$f^{(2)}_{3x}$</td><td style=\"text-align: right;\">             -5000</td></tr>\n",
       "</tbody>\n",
       "</table>"
      ],
      "text/plain": [
       "'<table>\\n<thead>\\n<tr><th>              </th><th style=\"text-align: right;\">  Fuerzas internas</th></tr>\\n</thead>\\n<tbody>\\n<tr><td>$f^{(2)}_{2x}$</td><td style=\"text-align: right;\">              5000</td></tr>\\n<tr><td>$f^{(2)}_{3x}$</td><td style=\"text-align: right;\">             -5000</td></tr>\\n</tbody>\\n</table>'"
      ]
     },
     "execution_count": 15,
     "metadata": {},
     "output_type": "execute_result"
    }
   ],
   "source": [
    "e_2.fuerzas_internas()"
   ]
  },
  {
   "cell_type": "code",
   "execution_count": 16,
   "id": "d5090a5d-aec6-4da7-aeff-6e2f8608a312",
   "metadata": {},
   "outputs": [
    {
     "data": {
      "image/png": "[encoded data removed]",
      "text/plain": [
       "<Figure size 640x480 with 1 Axes>"
      ]
     },
     "metadata": {},
     "output_type": "display_data"
    }
   ],
   "source": [
    "e_2.diagrama_fuerzas_internas()"
   ]
  },
  {
   "cell_type": "code",
   "execution_count": 17,
   "id": "9ad2e55c-a194-405e-bbb2-b90cff1834bb",
   "metadata": {},
   "outputs": [
    {
     "data": {
      "text/html": [
       "<table>\n",
       "<thead>\n",
       "<tr><th>              </th><th style=\"text-align: right;\">  Fuerzas internas</th></tr>\n",
       "</thead>\n",
       "<tbody>\n",
       "<tr><td>$f^{(3)}_{3x}$</td><td style=\"text-align: right;\">              5000</td></tr>\n",
       "<tr><td>$f^{(3)}_{4x}$</td><td style=\"text-align: right;\">             -5000</td></tr>\n",
       "</tbody>\n",
       "</table>"
      ],
      "text/plain": [
       "'<table>\\n<thead>\\n<tr><th>              </th><th style=\"text-align: right;\">  Fuerzas internas</th></tr>\\n</thead>\\n<tbody>\\n<tr><td>$f^{(3)}_{3x}$</td><td style=\"text-align: right;\">              5000</td></tr>\\n<tr><td>$f^{(3)}_{4x}$</td><td style=\"text-align: right;\">             -5000</td></tr>\\n</tbody>\\n</table>'"
      ]
     },
     "execution_count": 17,
     "metadata": {},
     "output_type": "execute_result"
    }
   ],
   "source": [
    "e_3.fuerzas_internas()"
   ]
  },
  {
   "cell_type": "code",
   "execution_count": 18,
   "id": "a6c8a7c9-0eec-4f65-89e3-bd3f5c62297f",
   "metadata": {},
   "outputs": [
    {
     "data": {
      "image/png": "[encoded data removed]",
      "text/plain": [
       "<Figure size 640x480 with 1 Axes>"
      ]
     },
     "metadata": {},
     "output_type": "display_data"
    }
   ],
   "source": [
    "e_3.diagrama_fuerzas_internas()"
   ]
  }
 ],
 "metadata": {
  "kernelspec": {
   "display_name": "Python 3 (ipykernel)",
   "language": "python",
   "name": "python3"
  },
  "language_info": {
   "codemirror_mode": {
    "name": "ipython",
    "version": 3
   },
   "file_extension": ".py",
   "mimetype": "text/x-python",
   "name": "python",
   "nbconvert_exporter": "python",
   "pygments_lexer": "ipython3",
   "version": "3.10.12"
  }
 },
 "nbformat": 4,
 "nbformat_minor": 5
}
