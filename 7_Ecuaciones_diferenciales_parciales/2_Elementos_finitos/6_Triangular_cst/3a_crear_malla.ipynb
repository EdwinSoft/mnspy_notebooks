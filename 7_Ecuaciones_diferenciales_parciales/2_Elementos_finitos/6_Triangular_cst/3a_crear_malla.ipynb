{
 "cells": [
  {
   "cell_type": "markdown",
   "id": "02865e99-6cb8-4168-83a0-b482ce7788d5",
   "metadata": {},
   "source": [
    "# Creación de una Malla 2D con Gmsh\n",
    "\n",
    "Este notebook demuestra cómo utilizar la API de Python de **Gmsh** para crear una malla de elementos finitos para un problema de tensión plana: una placa rectangular con un agujero en el centro.\n",
    "\n",
    "El proceso se divide en:\n",
    "1.  Definir la geometría (puntos, líneas, superficies).\n",
    "2.  Asignar \"Grupos Físicos\" a las entidades geométricas para poder aplicar cargas y condiciones de frontera más adelante.\n",
    "3.  Generar la malla 2D.\n",
    "4.  Guardar la malla en un archivo `.msh` para ser utilizado por el solver."
   ]
  },
  {
   "cell_type": "code",
   "execution_count": 1,
   "id": "18324d40-fe8c-4a75-8a59-77e6ee855b18",
   "metadata": {},
   "outputs": [],
   "source": [
    "import gmsh"
   ]
  },
  {
   "cell_type": "markdown",
   "id": "3ab3cc40-acda-428a-9cbb-2eb091884c0a",
   "metadata": {},
   "source": [
    "### Paso 1: Inicialización y Parámetros"
   ]
  },
  {
   "cell_type": "code",
   "execution_count": 2,
   "id": "d8e1cb03-32dc-4086-b2c1-47c0b9c1a5fc",
   "metadata": {},
   "outputs": [],
   "source": [
    "# Inicializamos Gmsh y creamos un nuevo modelo.\n",
    "gmsh.initialize()\n",
    "gmsh.model.add(\"placa_con_agujero\")"
   ]
  },
  {
   "cell_type": "markdown",
   "id": "a3e05fcc-354e-444f-a9f5-7644ae2e531a",
   "metadata": {},
   "source": [
    "### Paso 2: Definición de la Geometría"
   ]
  },
  {
   "cell_type": "code",
   "execution_count": 3,
   "id": "5fc4c31a-2bf3-4fc2-8ae8-73ee1c6ad14d",
   "metadata": {},
   "outputs": [],
   "source": [
    "# Definimos los tamaños de malla. Usaremos una malla más fina (`tm_refinado`)\n",
    "# alrededor del agujero para capturar mejor la concentración de esfuerzos.\n",
    "tm_general = 2E-2\n",
    "tm_refinado = 2E-3"
   ]
  },
  {
   "cell_type": "code",
   "execution_count": 4,
   "id": "bfd4ae68-817e-4d96-824b-80917ae8a9d9",
   "metadata": {},
   "outputs": [],
   "source": [
    "# Puntos para el rectángulo exterior\n",
    "p = gmsh.model.geo.addPoint(0,   0,   0, tm_general, 1) \n",
    "p = gmsh.model.geo.addPoint(0.4, 0,   0, tm_general, 2) \n",
    "p = gmsh.model.geo.addPoint(0.4, 0.2, 0, tm_general, 3)\n",
    "p = gmsh.model.geo.addPoint(0,   0.2, 0, tm_general, 4)"
   ]
  },
  {
   "cell_type": "code",
   "execution_count": 5,
   "id": "99cfec35-306b-49d5-ba1a-b163fa34880b",
   "metadata": {},
   "outputs": [],
   "source": [
    "# Puntos para el círculo interior (agujero)\n",
    "radio = 3E-2\n",
    "centro_x, centro_y = 0.2, 0.1\n",
    "p = gmsh.model.geo.addPoint(centro_x,          centro_y,          0, tm_general, 5) # Punto central\n",
    "p = gmsh.model.geo.addPoint(centro_x + radio,  centro_y,          0, tm_refinado, 6) # Punto derecho del círculo\n",
    "p = gmsh.model.geo.addPoint(centro_x - radio,  centro_y,          0, tm_refinado, 7) # Punto izquierdo del círculo"
   ]
  },
  {
   "cell_type": "code",
   "execution_count": 6,
   "id": "701a3374-8d50-4341-9c41-24848029372e",
   "metadata": {},
   "outputs": [],
   "source": [
    "# Creamos las líneas del rectángulo exterior.\n",
    "l = gmsh.model.geo.addLine(1, 2, 1)\n",
    "l = gmsh.model.geo.addLine(2, 3, 2)\n",
    "l = gmsh.model.geo.addLine(3, 4, 3)\n",
    "l = gmsh.model.geo.addLine(4, 1, 4)"
   ]
  },
  {
   "cell_type": "code",
   "execution_count": 7,
   "id": "b2bb9c59-10d5-40eb-8c5d-ee8998fd344c",
   "metadata": {},
   "outputs": [],
   "source": [
    "# Creamos los arcos para el círculo.\n",
    "arc = gmsh.model.geo.addCircleArc(6, 5, 7, 5)  # Arco superior\n",
    "arc = gmsh.model.geo.addCircleArc(7, 5, 6, 6)  # Arco inferior"
   ]
  },
  {
   "cell_type": "code",
   "execution_count": 8,
   "id": "576d6785-eb54-48ab-b486-f4527ee552ad",
   "metadata": {},
   "outputs": [],
   "source": [
    "# Creamos los \"Curve Loops\" que definen los contornos cerrados.\n",
    "loop_exterior = gmsh.model.geo.addCurveLoop([1, 2, 3, 4], 1)\n",
    "loop_interior = gmsh.model.geo.addCurveLoop([5, 6], 2)"
   ]
  },
  {
   "cell_type": "code",
   "execution_count": 9,
   "id": "102e4ac3-2858-417b-adc3-75146ef63081",
   "metadata": {},
   "outputs": [],
   "source": [
    "# Creamos la superficie plana, especificando que tiene un agujero.\n",
    "s = gmsh.model.geo.addPlaneSurface([loop_exterior, loop_interior], 1)"
   ]
  },
  {
   "cell_type": "markdown",
   "id": "b4ab2872-e1d7-4c7b-bed4-5c5d44324ef1",
   "metadata": {},
   "source": [
    "### Paso 3: Definición de Grupos Físicos\n",
    "\n",
    "Los grupos físicos son esenciales. Asignan etiquetas a las entidades geométricas, que luego son leídas por el solver para aplicar condiciones de contorno."
   ]
  },
  {
   "cell_type": "code",
   "execution_count": 10,
   "id": "1034ed1f-aa94-4bff-88be-6ae1e689f890",
   "metadata": {},
   "outputs": [],
   "source": [
    "# Grupo para la superficie 2D (donde se crearán los elementos).\n",
    "gf = gmsh.model.geo.addPhysicalGroup(2, [1], 1, \"superficie\") "
   ]
  },
  {
   "cell_type": "code",
   "execution_count": 11,
   "id": "ffbdf16b-66ed-42d1-ae5d-d701451128cf",
   "metadata": {},
   "outputs": [],
   "source": [
    "# Grupos para las líneas (bordes) 1D.\n",
    "gf = gmsh.model.geo.addPhysicalGroup(1, [2], 101, \"lado_cargas\") # Borde derecho\n",
    "gf = gmsh.model.geo.addPhysicalGroup(1, [4], 102, \"lado_fijo\")   # Borde izquierdo"
   ]
  },
  {
   "cell_type": "markdown",
   "id": "b7626999-bffc-4da2-ae35-b404a74c40f4",
   "metadata": {},
   "source": [
    "### Paso 4: Generación de la Malla y Visualización"
   ]
  },
  {
   "cell_type": "code",
   "execution_count": 12,
   "id": "1c2bc904-6186-422f-b967-51b8ddde3dfd",
   "metadata": {},
   "outputs": [],
   "source": [
    "# Sincronizamos el modelo CAD con el modelo de Gmsh.\n",
    "gmsh.model.geo.synchronize()"
   ]
  },
  {
   "cell_type": "code",
   "execution_count": 13,
   "id": "a98830b6-9919-49e2-8376-e2f52db5b417",
   "metadata": {},
   "outputs": [
    {
     "name": "stdout",
     "output_type": "stream",
     "text": [
      "Info    : Meshing 1D...\n",
      "Info    : [  0%] Meshing curve 1 (Line)\n",
      "Info    : [ 20%] Meshing curve 2 (Line)\n",
      "Info    : [ 40%] Meshing curve 3 (Line)\n",
      "Info    : [ 60%] Meshing curve 4 (Line)\n",
      "Info    : [ 70%] Meshing curve 5 (Circle)\n",
      "Info    : [ 90%] Meshing curve 6 (Circle)\n",
      "Info    : Done meshing 1D (Wall 0.000377951s, CPU 0.000596s)\n",
      "Info    : Meshing 2D...\n",
      "Info    : Meshing surface 1 (Plane, Frontal-Delaunay)\n",
      "Info    : Done meshing 2D (Wall 0.0154483s, CPU 0.015052s)\n",
      "Info    : 905 nodes 1815 elements\n"
     ]
    }
   ],
   "source": [
    "# Generamos la malla 2D.\n",
    "gmsh.model.mesh.generate(2)\n",
    "gmsh.option.setNumber('Mesh.SurfaceFaces', 1)\n",
    "gmsh.option.setNumber('Mesh.Points', 1)   "
   ]
  },
  {
   "cell_type": "code",
   "execution_count": 14,
   "id": "b418e64d-4fb1-4d49-b702-d81f7ad1f0a5",
   "metadata": {},
   "outputs": [
    {
     "name": "stdout",
     "output_type": "stream",
     "text": [
      "Info    : Writing 'ejem_1.msh'...\n",
      "Info    : Done writing 'ejem_1.msh'\n"
     ]
    }
   ],
   "source": [
    "# Guardamos la malla en un archivo.\n",
    "nombre_archivo = 'ejem_1.msh'\n",
    "gmsh.write(nombre_archivo)"
   ]
  },
  {
   "cell_type": "code",
   "execution_count": 15,
   "id": "9abc0e59-1814-48e0-9b27-ccb5a98daee8",
   "metadata": {},
   "outputs": [
    {
     "name": "stdout",
     "output_type": "stream",
     "text": [
      "-------------------------------------------------------\n",
      "Version       : 4.14.0\n",
      "License       : GNU General Public License\n",
      "Build OS      : Linux64-sdk\n",
      "Build date    : 20250703\n",
      "Build host    : gmsh.info\n",
      "Build options : 64Bit ALGLIB[contrib] ANN[contrib] Bamg Blas[petsc] Blossom Cgns DIntegration Dlopen DomHex Eigen[contrib] Fltk Gmm[contrib] Hxt Jpeg Kbipack Lapack[petsc] LinuxJoystick MathEx[contrib] Med Mesh Metis[contrib] Mmg Mpeg Netgen Nii2mesh ONELAB ONELABMetamodel OpenCASCADE OpenCASCADE-CAF OpenGL OpenMP OptHom PETSc Parser Plugins Png Post QuadMeshingTools QuadTri Solver TetGen/BR TinyXML2[contrib] Untangle Voro++[contrib] WinslowUntangler Zlib tinyobjloader\n",
      "FLTK version  : 1.3.11\n",
      "PETSc version : 3.14.4 (real arithmtic)\n",
      "OCC version   : 7.8.1\n",
      "MED version   : 4.1.0\n",
      "Packaged by   : geuzaine\n",
      "Web site      : https://gmsh.info\n",
      "Issue tracker : https://gitlab.onelab.info/gmsh/gmsh/issues\n",
      "-------------------------------------------------------\n"
     ]
    },
    {
     "name": "stderr",
     "output_type": "stream",
     "text": [
      "X_ChangeProperty: BadValue (integer parameter out of range for operation) 0x0\n"
     ]
    }
   ],
   "source": [
    "# Opcional: Abrimos la GUI de Gmsh para inspeccionar la malla visualmente.\n",
    "# Se puede cerrar la ventana para que el script continúe.\n",
    "gmsh.fltk.run()"
   ]
  },
  {
   "cell_type": "code",
   "execution_count": 16,
   "id": "21ec9323-78a1-429c-829d-137fffc60146",
   "metadata": {},
   "outputs": [],
   "source": [
    "# Finalizamos la sesión de Gmsh.\n",
    "gmsh.finalize()"
   ]
  }
 ],
 "metadata": {
  "kernelspec": {
   "display_name": "Python 3 (ipykernel)",
   "language": "python",
   "name": "python3"
  },
  "language_info": {
   "codemirror_mode": {
    "name": "ipython",
    "version": 3
   },
   "file_extension": ".py",
   "mimetype": "text/x-python",
   "name": "python",
   "nbconvert_exporter": "python",
   "pygments_lexer": "ipython3",
   "version": "3.10.12"
  }
 },
 "nbformat": 4,
 "nbformat_minor": 5
}
